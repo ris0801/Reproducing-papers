{
  "nbformat": 4,
  "nbformat_minor": 0,
  "metadata": {
    "colab": {
      "provenance": [],
      "authorship_tag": "ABX9TyMQBZutXzhWjn4hiOaPsGad"
    },
    "kernelspec": {
      "name": "python3",
      "display_name": "Python 3"
    },
    "language_info": {
      "name": "python"
    },
    "accelerator": "GPU",
    "gpuClass": "standard",
    "widgets": {
      "application/vnd.jupyter.widget-state+json": {
        "9c02d3f1764349fcbada05ae8cedecbd": {
          "model_module": "@jupyter-widgets/controls",
          "model_name": "HBoxModel",
          "model_module_version": "1.5.0",
          "state": {
            "_dom_classes": [],
            "_model_module": "@jupyter-widgets/controls",
            "_model_module_version": "1.5.0",
            "_model_name": "HBoxModel",
            "_view_count": null,
            "_view_module": "@jupyter-widgets/controls",
            "_view_module_version": "1.5.0",
            "_view_name": "HBoxView",
            "box_style": "",
            "children": [
              "IPY_MODEL_0cb693f3b1b8477788680ad3fc22653c",
              "IPY_MODEL_0fadd16283e740dead217d9aff0b4c36",
              "IPY_MODEL_81dd76bc08d94ca0852e0eb52ce68ee8"
            ],
            "layout": "IPY_MODEL_1658add766704959b11d60db22c6c4ad"
          }
        },
        "0cb693f3b1b8477788680ad3fc22653c": {
          "model_module": "@jupyter-widgets/controls",
          "model_name": "HTMLModel",
          "model_module_version": "1.5.0",
          "state": {
            "_dom_classes": [],
            "_model_module": "@jupyter-widgets/controls",
            "_model_module_version": "1.5.0",
            "_model_name": "HTMLModel",
            "_view_count": null,
            "_view_module": "@jupyter-widgets/controls",
            "_view_module_version": "1.5.0",
            "_view_name": "HTMLView",
            "description": "",
            "description_tooltip": null,
            "layout": "IPY_MODEL_d8dbfda309924224bc0d54d411fc6ed1",
            "placeholder": "​",
            "style": "IPY_MODEL_3866eb5ddc4c47659c5615254a1d8869",
            "value": "100%"
          }
        },
        "0fadd16283e740dead217d9aff0b4c36": {
          "model_module": "@jupyter-widgets/controls",
          "model_name": "FloatProgressModel",
          "model_module_version": "1.5.0",
          "state": {
            "_dom_classes": [],
            "_model_module": "@jupyter-widgets/controls",
            "_model_module_version": "1.5.0",
            "_model_name": "FloatProgressModel",
            "_view_count": null,
            "_view_module": "@jupyter-widgets/controls",
            "_view_module_version": "1.5.0",
            "_view_name": "ProgressView",
            "bar_style": "success",
            "description": "",
            "description_tooltip": null,
            "layout": "IPY_MODEL_3dda12b5127041f68ade07349a8e085d",
            "max": 9912422,
            "min": 0,
            "orientation": "horizontal",
            "style": "IPY_MODEL_835de1ac329143a6abf726e1257e624f",
            "value": 9912422
          }
        },
        "81dd76bc08d94ca0852e0eb52ce68ee8": {
          "model_module": "@jupyter-widgets/controls",
          "model_name": "HTMLModel",
          "model_module_version": "1.5.0",
          "state": {
            "_dom_classes": [],
            "_model_module": "@jupyter-widgets/controls",
            "_model_module_version": "1.5.0",
            "_model_name": "HTMLModel",
            "_view_count": null,
            "_view_module": "@jupyter-widgets/controls",
            "_view_module_version": "1.5.0",
            "_view_name": "HTMLView",
            "description": "",
            "description_tooltip": null,
            "layout": "IPY_MODEL_f7c81f7b86e34778b577cd20af61cb2c",
            "placeholder": "​",
            "style": "IPY_MODEL_fb85ce64b0224aaf83b7324de918483f",
            "value": " 9912422/9912422 [00:00&lt;00:00, 169105257.30it/s]"
          }
        },
        "1658add766704959b11d60db22c6c4ad": {
          "model_module": "@jupyter-widgets/base",
          "model_name": "LayoutModel",
          "model_module_version": "1.2.0",
          "state": {
            "_model_module": "@jupyter-widgets/base",
            "_model_module_version": "1.2.0",
            "_model_name": "LayoutModel",
            "_view_count": null,
            "_view_module": "@jupyter-widgets/base",
            "_view_module_version": "1.2.0",
            "_view_name": "LayoutView",
            "align_content": null,
            "align_items": null,
            "align_self": null,
            "border": null,
            "bottom": null,
            "display": null,
            "flex": null,
            "flex_flow": null,
            "grid_area": null,
            "grid_auto_columns": null,
            "grid_auto_flow": null,
            "grid_auto_rows": null,
            "grid_column": null,
            "grid_gap": null,
            "grid_row": null,
            "grid_template_areas": null,
            "grid_template_columns": null,
            "grid_template_rows": null,
            "height": null,
            "justify_content": null,
            "justify_items": null,
            "left": null,
            "margin": null,
            "max_height": null,
            "max_width": null,
            "min_height": null,
            "min_width": null,
            "object_fit": null,
            "object_position": null,
            "order": null,
            "overflow": null,
            "overflow_x": null,
            "overflow_y": null,
            "padding": null,
            "right": null,
            "top": null,
            "visibility": null,
            "width": null
          }
        },
        "d8dbfda309924224bc0d54d411fc6ed1": {
          "model_module": "@jupyter-widgets/base",
          "model_name": "LayoutModel",
          "model_module_version": "1.2.0",
          "state": {
            "_model_module": "@jupyter-widgets/base",
            "_model_module_version": "1.2.0",
            "_model_name": "LayoutModel",
            "_view_count": null,
            "_view_module": "@jupyter-widgets/base",
            "_view_module_version": "1.2.0",
            "_view_name": "LayoutView",
            "align_content": null,
            "align_items": null,
            "align_self": null,
            "border": null,
            "bottom": null,
            "display": null,
            "flex": null,
            "flex_flow": null,
            "grid_area": null,
            "grid_auto_columns": null,
            "grid_auto_flow": null,
            "grid_auto_rows": null,
            "grid_column": null,
            "grid_gap": null,
            "grid_row": null,
            "grid_template_areas": null,
            "grid_template_columns": null,
            "grid_template_rows": null,
            "height": null,
            "justify_content": null,
            "justify_items": null,
            "left": null,
            "margin": null,
            "max_height": null,
            "max_width": null,
            "min_height": null,
            "min_width": null,
            "object_fit": null,
            "object_position": null,
            "order": null,
            "overflow": null,
            "overflow_x": null,
            "overflow_y": null,
            "padding": null,
            "right": null,
            "top": null,
            "visibility": null,
            "width": null
          }
        },
        "3866eb5ddc4c47659c5615254a1d8869": {
          "model_module": "@jupyter-widgets/controls",
          "model_name": "DescriptionStyleModel",
          "model_module_version": "1.5.0",
          "state": {
            "_model_module": "@jupyter-widgets/controls",
            "_model_module_version": "1.5.0",
            "_model_name": "DescriptionStyleModel",
            "_view_count": null,
            "_view_module": "@jupyter-widgets/base",
            "_view_module_version": "1.2.0",
            "_view_name": "StyleView",
            "description_width": ""
          }
        },
        "3dda12b5127041f68ade07349a8e085d": {
          "model_module": "@jupyter-widgets/base",
          "model_name": "LayoutModel",
          "model_module_version": "1.2.0",
          "state": {
            "_model_module": "@jupyter-widgets/base",
            "_model_module_version": "1.2.0",
            "_model_name": "LayoutModel",
            "_view_count": null,
            "_view_module": "@jupyter-widgets/base",
            "_view_module_version": "1.2.0",
            "_view_name": "LayoutView",
            "align_content": null,
            "align_items": null,
            "align_self": null,
            "border": null,
            "bottom": null,
            "display": null,
            "flex": null,
            "flex_flow": null,
            "grid_area": null,
            "grid_auto_columns": null,
            "grid_auto_flow": null,
            "grid_auto_rows": null,
            "grid_column": null,
            "grid_gap": null,
            "grid_row": null,
            "grid_template_areas": null,
            "grid_template_columns": null,
            "grid_template_rows": null,
            "height": null,
            "justify_content": null,
            "justify_items": null,
            "left": null,
            "margin": null,
            "max_height": null,
            "max_width": null,
            "min_height": null,
            "min_width": null,
            "object_fit": null,
            "object_position": null,
            "order": null,
            "overflow": null,
            "overflow_x": null,
            "overflow_y": null,
            "padding": null,
            "right": null,
            "top": null,
            "visibility": null,
            "width": null
          }
        },
        "835de1ac329143a6abf726e1257e624f": {
          "model_module": "@jupyter-widgets/controls",
          "model_name": "ProgressStyleModel",
          "model_module_version": "1.5.0",
          "state": {
            "_model_module": "@jupyter-widgets/controls",
            "_model_module_version": "1.5.0",
            "_model_name": "ProgressStyleModel",
            "_view_count": null,
            "_view_module": "@jupyter-widgets/base",
            "_view_module_version": "1.2.0",
            "_view_name": "StyleView",
            "bar_color": null,
            "description_width": ""
          }
        },
        "f7c81f7b86e34778b577cd20af61cb2c": {
          "model_module": "@jupyter-widgets/base",
          "model_name": "LayoutModel",
          "model_module_version": "1.2.0",
          "state": {
            "_model_module": "@jupyter-widgets/base",
            "_model_module_version": "1.2.0",
            "_model_name": "LayoutModel",
            "_view_count": null,
            "_view_module": "@jupyter-widgets/base",
            "_view_module_version": "1.2.0",
            "_view_name": "LayoutView",
            "align_content": null,
            "align_items": null,
            "align_self": null,
            "border": null,
            "bottom": null,
            "display": null,
            "flex": null,
            "flex_flow": null,
            "grid_area": null,
            "grid_auto_columns": null,
            "grid_auto_flow": null,
            "grid_auto_rows": null,
            "grid_column": null,
            "grid_gap": null,
            "grid_row": null,
            "grid_template_areas": null,
            "grid_template_columns": null,
            "grid_template_rows": null,
            "height": null,
            "justify_content": null,
            "justify_items": null,
            "left": null,
            "margin": null,
            "max_height": null,
            "max_width": null,
            "min_height": null,
            "min_width": null,
            "object_fit": null,
            "object_position": null,
            "order": null,
            "overflow": null,
            "overflow_x": null,
            "overflow_y": null,
            "padding": null,
            "right": null,
            "top": null,
            "visibility": null,
            "width": null
          }
        },
        "fb85ce64b0224aaf83b7324de918483f": {
          "model_module": "@jupyter-widgets/controls",
          "model_name": "DescriptionStyleModel",
          "model_module_version": "1.5.0",
          "state": {
            "_model_module": "@jupyter-widgets/controls",
            "_model_module_version": "1.5.0",
            "_model_name": "DescriptionStyleModel",
            "_view_count": null,
            "_view_module": "@jupyter-widgets/base",
            "_view_module_version": "1.2.0",
            "_view_name": "StyleView",
            "description_width": ""
          }
        },
        "f42e53bc093f4069bfe938e628e97eaf": {
          "model_module": "@jupyter-widgets/controls",
          "model_name": "HBoxModel",
          "model_module_version": "1.5.0",
          "state": {
            "_dom_classes": [],
            "_model_module": "@jupyter-widgets/controls",
            "_model_module_version": "1.5.0",
            "_model_name": "HBoxModel",
            "_view_count": null,
            "_view_module": "@jupyter-widgets/controls",
            "_view_module_version": "1.5.0",
            "_view_name": "HBoxView",
            "box_style": "",
            "children": [
              "IPY_MODEL_c3915c09629842b195ebc4b0da701ce3",
              "IPY_MODEL_b4d0864f5c744869a04f42b7c846e05b",
              "IPY_MODEL_4c6a37cb941d4abd8c4c1fc895923cc7"
            ],
            "layout": "IPY_MODEL_ffe24d833d154b9c94983c352a96ced1"
          }
        },
        "c3915c09629842b195ebc4b0da701ce3": {
          "model_module": "@jupyter-widgets/controls",
          "model_name": "HTMLModel",
          "model_module_version": "1.5.0",
          "state": {
            "_dom_classes": [],
            "_model_module": "@jupyter-widgets/controls",
            "_model_module_version": "1.5.0",
            "_model_name": "HTMLModel",
            "_view_count": null,
            "_view_module": "@jupyter-widgets/controls",
            "_view_module_version": "1.5.0",
            "_view_name": "HTMLView",
            "description": "",
            "description_tooltip": null,
            "layout": "IPY_MODEL_451ddea5a9dd4220b29121d39c9f2aaa",
            "placeholder": "​",
            "style": "IPY_MODEL_88e4ebc3637f4f92ad1c9ccc1bde1112",
            "value": "100%"
          }
        },
        "b4d0864f5c744869a04f42b7c846e05b": {
          "model_module": "@jupyter-widgets/controls",
          "model_name": "FloatProgressModel",
          "model_module_version": "1.5.0",
          "state": {
            "_dom_classes": [],
            "_model_module": "@jupyter-widgets/controls",
            "_model_module_version": "1.5.0",
            "_model_name": "FloatProgressModel",
            "_view_count": null,
            "_view_module": "@jupyter-widgets/controls",
            "_view_module_version": "1.5.0",
            "_view_name": "ProgressView",
            "bar_style": "success",
            "description": "",
            "description_tooltip": null,
            "layout": "IPY_MODEL_ef42f31ad3b047bcba4d574857c9d0d6",
            "max": 28881,
            "min": 0,
            "orientation": "horizontal",
            "style": "IPY_MODEL_1dff0a93f2d2406da1addd356e122800",
            "value": 28881
          }
        },
        "4c6a37cb941d4abd8c4c1fc895923cc7": {
          "model_module": "@jupyter-widgets/controls",
          "model_name": "HTMLModel",
          "model_module_version": "1.5.0",
          "state": {
            "_dom_classes": [],
            "_model_module": "@jupyter-widgets/controls",
            "_model_module_version": "1.5.0",
            "_model_name": "HTMLModel",
            "_view_count": null,
            "_view_module": "@jupyter-widgets/controls",
            "_view_module_version": "1.5.0",
            "_view_name": "HTMLView",
            "description": "",
            "description_tooltip": null,
            "layout": "IPY_MODEL_d61b63da2d0d4032acd9eeffed6e3b9e",
            "placeholder": "​",
            "style": "IPY_MODEL_4c26fae5c1bb4674b1ed5f98729ab580",
            "value": " 28881/28881 [00:00&lt;00:00, 1792823.33it/s]"
          }
        },
        "ffe24d833d154b9c94983c352a96ced1": {
          "model_module": "@jupyter-widgets/base",
          "model_name": "LayoutModel",
          "model_module_version": "1.2.0",
          "state": {
            "_model_module": "@jupyter-widgets/base",
            "_model_module_version": "1.2.0",
            "_model_name": "LayoutModel",
            "_view_count": null,
            "_view_module": "@jupyter-widgets/base",
            "_view_module_version": "1.2.0",
            "_view_name": "LayoutView",
            "align_content": null,
            "align_items": null,
            "align_self": null,
            "border": null,
            "bottom": null,
            "display": null,
            "flex": null,
            "flex_flow": null,
            "grid_area": null,
            "grid_auto_columns": null,
            "grid_auto_flow": null,
            "grid_auto_rows": null,
            "grid_column": null,
            "grid_gap": null,
            "grid_row": null,
            "grid_template_areas": null,
            "grid_template_columns": null,
            "grid_template_rows": null,
            "height": null,
            "justify_content": null,
            "justify_items": null,
            "left": null,
            "margin": null,
            "max_height": null,
            "max_width": null,
            "min_height": null,
            "min_width": null,
            "object_fit": null,
            "object_position": null,
            "order": null,
            "overflow": null,
            "overflow_x": null,
            "overflow_y": null,
            "padding": null,
            "right": null,
            "top": null,
            "visibility": null,
            "width": null
          }
        },
        "451ddea5a9dd4220b29121d39c9f2aaa": {
          "model_module": "@jupyter-widgets/base",
          "model_name": "LayoutModel",
          "model_module_version": "1.2.0",
          "state": {
            "_model_module": "@jupyter-widgets/base",
            "_model_module_version": "1.2.0",
            "_model_name": "LayoutModel",
            "_view_count": null,
            "_view_module": "@jupyter-widgets/base",
            "_view_module_version": "1.2.0",
            "_view_name": "LayoutView",
            "align_content": null,
            "align_items": null,
            "align_self": null,
            "border": null,
            "bottom": null,
            "display": null,
            "flex": null,
            "flex_flow": null,
            "grid_area": null,
            "grid_auto_columns": null,
            "grid_auto_flow": null,
            "grid_auto_rows": null,
            "grid_column": null,
            "grid_gap": null,
            "grid_row": null,
            "grid_template_areas": null,
            "grid_template_columns": null,
            "grid_template_rows": null,
            "height": null,
            "justify_content": null,
            "justify_items": null,
            "left": null,
            "margin": null,
            "max_height": null,
            "max_width": null,
            "min_height": null,
            "min_width": null,
            "object_fit": null,
            "object_position": null,
            "order": null,
            "overflow": null,
            "overflow_x": null,
            "overflow_y": null,
            "padding": null,
            "right": null,
            "top": null,
            "visibility": null,
            "width": null
          }
        },
        "88e4ebc3637f4f92ad1c9ccc1bde1112": {
          "model_module": "@jupyter-widgets/controls",
          "model_name": "DescriptionStyleModel",
          "model_module_version": "1.5.0",
          "state": {
            "_model_module": "@jupyter-widgets/controls",
            "_model_module_version": "1.5.0",
            "_model_name": "DescriptionStyleModel",
            "_view_count": null,
            "_view_module": "@jupyter-widgets/base",
            "_view_module_version": "1.2.0",
            "_view_name": "StyleView",
            "description_width": ""
          }
        },
        "ef42f31ad3b047bcba4d574857c9d0d6": {
          "model_module": "@jupyter-widgets/base",
          "model_name": "LayoutModel",
          "model_module_version": "1.2.0",
          "state": {
            "_model_module": "@jupyter-widgets/base",
            "_model_module_version": "1.2.0",
            "_model_name": "LayoutModel",
            "_view_count": null,
            "_view_module": "@jupyter-widgets/base",
            "_view_module_version": "1.2.0",
            "_view_name": "LayoutView",
            "align_content": null,
            "align_items": null,
            "align_self": null,
            "border": null,
            "bottom": null,
            "display": null,
            "flex": null,
            "flex_flow": null,
            "grid_area": null,
            "grid_auto_columns": null,
            "grid_auto_flow": null,
            "grid_auto_rows": null,
            "grid_column": null,
            "grid_gap": null,
            "grid_row": null,
            "grid_template_areas": null,
            "grid_template_columns": null,
            "grid_template_rows": null,
            "height": null,
            "justify_content": null,
            "justify_items": null,
            "left": null,
            "margin": null,
            "max_height": null,
            "max_width": null,
            "min_height": null,
            "min_width": null,
            "object_fit": null,
            "object_position": null,
            "order": null,
            "overflow": null,
            "overflow_x": null,
            "overflow_y": null,
            "padding": null,
            "right": null,
            "top": null,
            "visibility": null,
            "width": null
          }
        },
        "1dff0a93f2d2406da1addd356e122800": {
          "model_module": "@jupyter-widgets/controls",
          "model_name": "ProgressStyleModel",
          "model_module_version": "1.5.0",
          "state": {
            "_model_module": "@jupyter-widgets/controls",
            "_model_module_version": "1.5.0",
            "_model_name": "ProgressStyleModel",
            "_view_count": null,
            "_view_module": "@jupyter-widgets/base",
            "_view_module_version": "1.2.0",
            "_view_name": "StyleView",
            "bar_color": null,
            "description_width": ""
          }
        },
        "d61b63da2d0d4032acd9eeffed6e3b9e": {
          "model_module": "@jupyter-widgets/base",
          "model_name": "LayoutModel",
          "model_module_version": "1.2.0",
          "state": {
            "_model_module": "@jupyter-widgets/base",
            "_model_module_version": "1.2.0",
            "_model_name": "LayoutModel",
            "_view_count": null,
            "_view_module": "@jupyter-widgets/base",
            "_view_module_version": "1.2.0",
            "_view_name": "LayoutView",
            "align_content": null,
            "align_items": null,
            "align_self": null,
            "border": null,
            "bottom": null,
            "display": null,
            "flex": null,
            "flex_flow": null,
            "grid_area": null,
            "grid_auto_columns": null,
            "grid_auto_flow": null,
            "grid_auto_rows": null,
            "grid_column": null,
            "grid_gap": null,
            "grid_row": null,
            "grid_template_areas": null,
            "grid_template_columns": null,
            "grid_template_rows": null,
            "height": null,
            "justify_content": null,
            "justify_items": null,
            "left": null,
            "margin": null,
            "max_height": null,
            "max_width": null,
            "min_height": null,
            "min_width": null,
            "object_fit": null,
            "object_position": null,
            "order": null,
            "overflow": null,
            "overflow_x": null,
            "overflow_y": null,
            "padding": null,
            "right": null,
            "top": null,
            "visibility": null,
            "width": null
          }
        },
        "4c26fae5c1bb4674b1ed5f98729ab580": {
          "model_module": "@jupyter-widgets/controls",
          "model_name": "DescriptionStyleModel",
          "model_module_version": "1.5.0",
          "state": {
            "_model_module": "@jupyter-widgets/controls",
            "_model_module_version": "1.5.0",
            "_model_name": "DescriptionStyleModel",
            "_view_count": null,
            "_view_module": "@jupyter-widgets/base",
            "_view_module_version": "1.2.0",
            "_view_name": "StyleView",
            "description_width": ""
          }
        },
        "edcb8ee8f9294fd0b22fc44c9e015dc1": {
          "model_module": "@jupyter-widgets/controls",
          "model_name": "HBoxModel",
          "model_module_version": "1.5.0",
          "state": {
            "_dom_classes": [],
            "_model_module": "@jupyter-widgets/controls",
            "_model_module_version": "1.5.0",
            "_model_name": "HBoxModel",
            "_view_count": null,
            "_view_module": "@jupyter-widgets/controls",
            "_view_module_version": "1.5.0",
            "_view_name": "HBoxView",
            "box_style": "",
            "children": [
              "IPY_MODEL_d99852a2c6434e0c98dbc9d9bdbf6d47",
              "IPY_MODEL_58e8c4cdc80d4d0d97c53a9484192a8a",
              "IPY_MODEL_717215f52b364df9a22ac72a0de83de7"
            ],
            "layout": "IPY_MODEL_d174fc744e51410fbf423ff47546419e"
          }
        },
        "d99852a2c6434e0c98dbc9d9bdbf6d47": {
          "model_module": "@jupyter-widgets/controls",
          "model_name": "HTMLModel",
          "model_module_version": "1.5.0",
          "state": {
            "_dom_classes": [],
            "_model_module": "@jupyter-widgets/controls",
            "_model_module_version": "1.5.0",
            "_model_name": "HTMLModel",
            "_view_count": null,
            "_view_module": "@jupyter-widgets/controls",
            "_view_module_version": "1.5.0",
            "_view_name": "HTMLView",
            "description": "",
            "description_tooltip": null,
            "layout": "IPY_MODEL_42290d4c0afb494d88415a73b35bbfc7",
            "placeholder": "​",
            "style": "IPY_MODEL_6a8562d09ef94467a4382b4bf9466b0b",
            "value": "100%"
          }
        },
        "58e8c4cdc80d4d0d97c53a9484192a8a": {
          "model_module": "@jupyter-widgets/controls",
          "model_name": "FloatProgressModel",
          "model_module_version": "1.5.0",
          "state": {
            "_dom_classes": [],
            "_model_module": "@jupyter-widgets/controls",
            "_model_module_version": "1.5.0",
            "_model_name": "FloatProgressModel",
            "_view_count": null,
            "_view_module": "@jupyter-widgets/controls",
            "_view_module_version": "1.5.0",
            "_view_name": "ProgressView",
            "bar_style": "success",
            "description": "",
            "description_tooltip": null,
            "layout": "IPY_MODEL_35f37301a82d4913aa636f10aaf05c52",
            "max": 1648877,
            "min": 0,
            "orientation": "horizontal",
            "style": "IPY_MODEL_e511610f21b34b35b9268d65aca14c9a",
            "value": 1648877
          }
        },
        "717215f52b364df9a22ac72a0de83de7": {
          "model_module": "@jupyter-widgets/controls",
          "model_name": "HTMLModel",
          "model_module_version": "1.5.0",
          "state": {
            "_dom_classes": [],
            "_model_module": "@jupyter-widgets/controls",
            "_model_module_version": "1.5.0",
            "_model_name": "HTMLModel",
            "_view_count": null,
            "_view_module": "@jupyter-widgets/controls",
            "_view_module_version": "1.5.0",
            "_view_name": "HTMLView",
            "description": "",
            "description_tooltip": null,
            "layout": "IPY_MODEL_703b7be6ee02481a883e8785599d03d8",
            "placeholder": "​",
            "style": "IPY_MODEL_14191bf198634a8d82e65d27024a6b47",
            "value": " 1648877/1648877 [00:00&lt;00:00, 64302170.99it/s]"
          }
        },
        "d174fc744e51410fbf423ff47546419e": {
          "model_module": "@jupyter-widgets/base",
          "model_name": "LayoutModel",
          "model_module_version": "1.2.0",
          "state": {
            "_model_module": "@jupyter-widgets/base",
            "_model_module_version": "1.2.0",
            "_model_name": "LayoutModel",
            "_view_count": null,
            "_view_module": "@jupyter-widgets/base",
            "_view_module_version": "1.2.0",
            "_view_name": "LayoutView",
            "align_content": null,
            "align_items": null,
            "align_self": null,
            "border": null,
            "bottom": null,
            "display": null,
            "flex": null,
            "flex_flow": null,
            "grid_area": null,
            "grid_auto_columns": null,
            "grid_auto_flow": null,
            "grid_auto_rows": null,
            "grid_column": null,
            "grid_gap": null,
            "grid_row": null,
            "grid_template_areas": null,
            "grid_template_columns": null,
            "grid_template_rows": null,
            "height": null,
            "justify_content": null,
            "justify_items": null,
            "left": null,
            "margin": null,
            "max_height": null,
            "max_width": null,
            "min_height": null,
            "min_width": null,
            "object_fit": null,
            "object_position": null,
            "order": null,
            "overflow": null,
            "overflow_x": null,
            "overflow_y": null,
            "padding": null,
            "right": null,
            "top": null,
            "visibility": null,
            "width": null
          }
        },
        "42290d4c0afb494d88415a73b35bbfc7": {
          "model_module": "@jupyter-widgets/base",
          "model_name": "LayoutModel",
          "model_module_version": "1.2.0",
          "state": {
            "_model_module": "@jupyter-widgets/base",
            "_model_module_version": "1.2.0",
            "_model_name": "LayoutModel",
            "_view_count": null,
            "_view_module": "@jupyter-widgets/base",
            "_view_module_version": "1.2.0",
            "_view_name": "LayoutView",
            "align_content": null,
            "align_items": null,
            "align_self": null,
            "border": null,
            "bottom": null,
            "display": null,
            "flex": null,
            "flex_flow": null,
            "grid_area": null,
            "grid_auto_columns": null,
            "grid_auto_flow": null,
            "grid_auto_rows": null,
            "grid_column": null,
            "grid_gap": null,
            "grid_row": null,
            "grid_template_areas": null,
            "grid_template_columns": null,
            "grid_template_rows": null,
            "height": null,
            "justify_content": null,
            "justify_items": null,
            "left": null,
            "margin": null,
            "max_height": null,
            "max_width": null,
            "min_height": null,
            "min_width": null,
            "object_fit": null,
            "object_position": null,
            "order": null,
            "overflow": null,
            "overflow_x": null,
            "overflow_y": null,
            "padding": null,
            "right": null,
            "top": null,
            "visibility": null,
            "width": null
          }
        },
        "6a8562d09ef94467a4382b4bf9466b0b": {
          "model_module": "@jupyter-widgets/controls",
          "model_name": "DescriptionStyleModel",
          "model_module_version": "1.5.0",
          "state": {
            "_model_module": "@jupyter-widgets/controls",
            "_model_module_version": "1.5.0",
            "_model_name": "DescriptionStyleModel",
            "_view_count": null,
            "_view_module": "@jupyter-widgets/base",
            "_view_module_version": "1.2.0",
            "_view_name": "StyleView",
            "description_width": ""
          }
        },
        "35f37301a82d4913aa636f10aaf05c52": {
          "model_module": "@jupyter-widgets/base",
          "model_name": "LayoutModel",
          "model_module_version": "1.2.0",
          "state": {
            "_model_module": "@jupyter-widgets/base",
            "_model_module_version": "1.2.0",
            "_model_name": "LayoutModel",
            "_view_count": null,
            "_view_module": "@jupyter-widgets/base",
            "_view_module_version": "1.2.0",
            "_view_name": "LayoutView",
            "align_content": null,
            "align_items": null,
            "align_self": null,
            "border": null,
            "bottom": null,
            "display": null,
            "flex": null,
            "flex_flow": null,
            "grid_area": null,
            "grid_auto_columns": null,
            "grid_auto_flow": null,
            "grid_auto_rows": null,
            "grid_column": null,
            "grid_gap": null,
            "grid_row": null,
            "grid_template_areas": null,
            "grid_template_columns": null,
            "grid_template_rows": null,
            "height": null,
            "justify_content": null,
            "justify_items": null,
            "left": null,
            "margin": null,
            "max_height": null,
            "max_width": null,
            "min_height": null,
            "min_width": null,
            "object_fit": null,
            "object_position": null,
            "order": null,
            "overflow": null,
            "overflow_x": null,
            "overflow_y": null,
            "padding": null,
            "right": null,
            "top": null,
            "visibility": null,
            "width": null
          }
        },
        "e511610f21b34b35b9268d65aca14c9a": {
          "model_module": "@jupyter-widgets/controls",
          "model_name": "ProgressStyleModel",
          "model_module_version": "1.5.0",
          "state": {
            "_model_module": "@jupyter-widgets/controls",
            "_model_module_version": "1.5.0",
            "_model_name": "ProgressStyleModel",
            "_view_count": null,
            "_view_module": "@jupyter-widgets/base",
            "_view_module_version": "1.2.0",
            "_view_name": "StyleView",
            "bar_color": null,
            "description_width": ""
          }
        },
        "703b7be6ee02481a883e8785599d03d8": {
          "model_module": "@jupyter-widgets/base",
          "model_name": "LayoutModel",
          "model_module_version": "1.2.0",
          "state": {
            "_model_module": "@jupyter-widgets/base",
            "_model_module_version": "1.2.0",
            "_model_name": "LayoutModel",
            "_view_count": null,
            "_view_module": "@jupyter-widgets/base",
            "_view_module_version": "1.2.0",
            "_view_name": "LayoutView",
            "align_content": null,
            "align_items": null,
            "align_self": null,
            "border": null,
            "bottom": null,
            "display": null,
            "flex": null,
            "flex_flow": null,
            "grid_area": null,
            "grid_auto_columns": null,
            "grid_auto_flow": null,
            "grid_auto_rows": null,
            "grid_column": null,
            "grid_gap": null,
            "grid_row": null,
            "grid_template_areas": null,
            "grid_template_columns": null,
            "grid_template_rows": null,
            "height": null,
            "justify_content": null,
            "justify_items": null,
            "left": null,
            "margin": null,
            "max_height": null,
            "max_width": null,
            "min_height": null,
            "min_width": null,
            "object_fit": null,
            "object_position": null,
            "order": null,
            "overflow": null,
            "overflow_x": null,
            "overflow_y": null,
            "padding": null,
            "right": null,
            "top": null,
            "visibility": null,
            "width": null
          }
        },
        "14191bf198634a8d82e65d27024a6b47": {
          "model_module": "@jupyter-widgets/controls",
          "model_name": "DescriptionStyleModel",
          "model_module_version": "1.5.0",
          "state": {
            "_model_module": "@jupyter-widgets/controls",
            "_model_module_version": "1.5.0",
            "_model_name": "DescriptionStyleModel",
            "_view_count": null,
            "_view_module": "@jupyter-widgets/base",
            "_view_module_version": "1.2.0",
            "_view_name": "StyleView",
            "description_width": ""
          }
        },
        "95d4cd8f4db14bb2ae686a7fc6e42ab5": {
          "model_module": "@jupyter-widgets/controls",
          "model_name": "HBoxModel",
          "model_module_version": "1.5.0",
          "state": {
            "_dom_classes": [],
            "_model_module": "@jupyter-widgets/controls",
            "_model_module_version": "1.5.0",
            "_model_name": "HBoxModel",
            "_view_count": null,
            "_view_module": "@jupyter-widgets/controls",
            "_view_module_version": "1.5.0",
            "_view_name": "HBoxView",
            "box_style": "",
            "children": [
              "IPY_MODEL_969ef26fa25647e0896d2450d83f15dc",
              "IPY_MODEL_66296c1d5f304092b256d6365ef4cbb9",
              "IPY_MODEL_55704d00b79e4e7690a95856e02aa8f0"
            ],
            "layout": "IPY_MODEL_2195ddb9413242818ad1ce23ce4809a7"
          }
        },
        "969ef26fa25647e0896d2450d83f15dc": {
          "model_module": "@jupyter-widgets/controls",
          "model_name": "HTMLModel",
          "model_module_version": "1.5.0",
          "state": {
            "_dom_classes": [],
            "_model_module": "@jupyter-widgets/controls",
            "_model_module_version": "1.5.0",
            "_model_name": "HTMLModel",
            "_view_count": null,
            "_view_module": "@jupyter-widgets/controls",
            "_view_module_version": "1.5.0",
            "_view_name": "HTMLView",
            "description": "",
            "description_tooltip": null,
            "layout": "IPY_MODEL_10494303a4944b5499d301f31a923a83",
            "placeholder": "​",
            "style": "IPY_MODEL_13f37eea64194c9fb55a8a750f8966f1",
            "value": "100%"
          }
        },
        "66296c1d5f304092b256d6365ef4cbb9": {
          "model_module": "@jupyter-widgets/controls",
          "model_name": "FloatProgressModel",
          "model_module_version": "1.5.0",
          "state": {
            "_dom_classes": [],
            "_model_module": "@jupyter-widgets/controls",
            "_model_module_version": "1.5.0",
            "_model_name": "FloatProgressModel",
            "_view_count": null,
            "_view_module": "@jupyter-widgets/controls",
            "_view_module_version": "1.5.0",
            "_view_name": "ProgressView",
            "bar_style": "success",
            "description": "",
            "description_tooltip": null,
            "layout": "IPY_MODEL_9b707a0416da4b4e8fa4a7fff109ab69",
            "max": 4542,
            "min": 0,
            "orientation": "horizontal",
            "style": "IPY_MODEL_b4625bcc753c43c0a454a6e480849a8a",
            "value": 4542
          }
        },
        "55704d00b79e4e7690a95856e02aa8f0": {
          "model_module": "@jupyter-widgets/controls",
          "model_name": "HTMLModel",
          "model_module_version": "1.5.0",
          "state": {
            "_dom_classes": [],
            "_model_module": "@jupyter-widgets/controls",
            "_model_module_version": "1.5.0",
            "_model_name": "HTMLModel",
            "_view_count": null,
            "_view_module": "@jupyter-widgets/controls",
            "_view_module_version": "1.5.0",
            "_view_name": "HTMLView",
            "description": "",
            "description_tooltip": null,
            "layout": "IPY_MODEL_a4789c51e0b84fc99bcfbe43b4e90b60",
            "placeholder": "​",
            "style": "IPY_MODEL_6a2de3c94ca44b9485299ee2f6367c71",
            "value": " 4542/4542 [00:00&lt;00:00, 244642.15it/s]"
          }
        },
        "2195ddb9413242818ad1ce23ce4809a7": {
          "model_module": "@jupyter-widgets/base",
          "model_name": "LayoutModel",
          "model_module_version": "1.2.0",
          "state": {
            "_model_module": "@jupyter-widgets/base",
            "_model_module_version": "1.2.0",
            "_model_name": "LayoutModel",
            "_view_count": null,
            "_view_module": "@jupyter-widgets/base",
            "_view_module_version": "1.2.0",
            "_view_name": "LayoutView",
            "align_content": null,
            "align_items": null,
            "align_self": null,
            "border": null,
            "bottom": null,
            "display": null,
            "flex": null,
            "flex_flow": null,
            "grid_area": null,
            "grid_auto_columns": null,
            "grid_auto_flow": null,
            "grid_auto_rows": null,
            "grid_column": null,
            "grid_gap": null,
            "grid_row": null,
            "grid_template_areas": null,
            "grid_template_columns": null,
            "grid_template_rows": null,
            "height": null,
            "justify_content": null,
            "justify_items": null,
            "left": null,
            "margin": null,
            "max_height": null,
            "max_width": null,
            "min_height": null,
            "min_width": null,
            "object_fit": null,
            "object_position": null,
            "order": null,
            "overflow": null,
            "overflow_x": null,
            "overflow_y": null,
            "padding": null,
            "right": null,
            "top": null,
            "visibility": null,
            "width": null
          }
        },
        "10494303a4944b5499d301f31a923a83": {
          "model_module": "@jupyter-widgets/base",
          "model_name": "LayoutModel",
          "model_module_version": "1.2.0",
          "state": {
            "_model_module": "@jupyter-widgets/base",
            "_model_module_version": "1.2.0",
            "_model_name": "LayoutModel",
            "_view_count": null,
            "_view_module": "@jupyter-widgets/base",
            "_view_module_version": "1.2.0",
            "_view_name": "LayoutView",
            "align_content": null,
            "align_items": null,
            "align_self": null,
            "border": null,
            "bottom": null,
            "display": null,
            "flex": null,
            "flex_flow": null,
            "grid_area": null,
            "grid_auto_columns": null,
            "grid_auto_flow": null,
            "grid_auto_rows": null,
            "grid_column": null,
            "grid_gap": null,
            "grid_row": null,
            "grid_template_areas": null,
            "grid_template_columns": null,
            "grid_template_rows": null,
            "height": null,
            "justify_content": null,
            "justify_items": null,
            "left": null,
            "margin": null,
            "max_height": null,
            "max_width": null,
            "min_height": null,
            "min_width": null,
            "object_fit": null,
            "object_position": null,
            "order": null,
            "overflow": null,
            "overflow_x": null,
            "overflow_y": null,
            "padding": null,
            "right": null,
            "top": null,
            "visibility": null,
            "width": null
          }
        },
        "13f37eea64194c9fb55a8a750f8966f1": {
          "model_module": "@jupyter-widgets/controls",
          "model_name": "DescriptionStyleModel",
          "model_module_version": "1.5.0",
          "state": {
            "_model_module": "@jupyter-widgets/controls",
            "_model_module_version": "1.5.0",
            "_model_name": "DescriptionStyleModel",
            "_view_count": null,
            "_view_module": "@jupyter-widgets/base",
            "_view_module_version": "1.2.0",
            "_view_name": "StyleView",
            "description_width": ""
          }
        },
        "9b707a0416da4b4e8fa4a7fff109ab69": {
          "model_module": "@jupyter-widgets/base",
          "model_name": "LayoutModel",
          "model_module_version": "1.2.0",
          "state": {
            "_model_module": "@jupyter-widgets/base",
            "_model_module_version": "1.2.0",
            "_model_name": "LayoutModel",
            "_view_count": null,
            "_view_module": "@jupyter-widgets/base",
            "_view_module_version": "1.2.0",
            "_view_name": "LayoutView",
            "align_content": null,
            "align_items": null,
            "align_self": null,
            "border": null,
            "bottom": null,
            "display": null,
            "flex": null,
            "flex_flow": null,
            "grid_area": null,
            "grid_auto_columns": null,
            "grid_auto_flow": null,
            "grid_auto_rows": null,
            "grid_column": null,
            "grid_gap": null,
            "grid_row": null,
            "grid_template_areas": null,
            "grid_template_columns": null,
            "grid_template_rows": null,
            "height": null,
            "justify_content": null,
            "justify_items": null,
            "left": null,
            "margin": null,
            "max_height": null,
            "max_width": null,
            "min_height": null,
            "min_width": null,
            "object_fit": null,
            "object_position": null,
            "order": null,
            "overflow": null,
            "overflow_x": null,
            "overflow_y": null,
            "padding": null,
            "right": null,
            "top": null,
            "visibility": null,
            "width": null
          }
        },
        "b4625bcc753c43c0a454a6e480849a8a": {
          "model_module": "@jupyter-widgets/controls",
          "model_name": "ProgressStyleModel",
          "model_module_version": "1.5.0",
          "state": {
            "_model_module": "@jupyter-widgets/controls",
            "_model_module_version": "1.5.0",
            "_model_name": "ProgressStyleModel",
            "_view_count": null,
            "_view_module": "@jupyter-widgets/base",
            "_view_module_version": "1.2.0",
            "_view_name": "StyleView",
            "bar_color": null,
            "description_width": ""
          }
        },
        "a4789c51e0b84fc99bcfbe43b4e90b60": {
          "model_module": "@jupyter-widgets/base",
          "model_name": "LayoutModel",
          "model_module_version": "1.2.0",
          "state": {
            "_model_module": "@jupyter-widgets/base",
            "_model_module_version": "1.2.0",
            "_model_name": "LayoutModel",
            "_view_count": null,
            "_view_module": "@jupyter-widgets/base",
            "_view_module_version": "1.2.0",
            "_view_name": "LayoutView",
            "align_content": null,
            "align_items": null,
            "align_self": null,
            "border": null,
            "bottom": null,
            "display": null,
            "flex": null,
            "flex_flow": null,
            "grid_area": null,
            "grid_auto_columns": null,
            "grid_auto_flow": null,
            "grid_auto_rows": null,
            "grid_column": null,
            "grid_gap": null,
            "grid_row": null,
            "grid_template_areas": null,
            "grid_template_columns": null,
            "grid_template_rows": null,
            "height": null,
            "justify_content": null,
            "justify_items": null,
            "left": null,
            "margin": null,
            "max_height": null,
            "max_width": null,
            "min_height": null,
            "min_width": null,
            "object_fit": null,
            "object_position": null,
            "order": null,
            "overflow": null,
            "overflow_x": null,
            "overflow_y": null,
            "padding": null,
            "right": null,
            "top": null,
            "visibility": null,
            "width": null
          }
        },
        "6a2de3c94ca44b9485299ee2f6367c71": {
          "model_module": "@jupyter-widgets/controls",
          "model_name": "DescriptionStyleModel",
          "model_module_version": "1.5.0",
          "state": {
            "_model_module": "@jupyter-widgets/controls",
            "_model_module_version": "1.5.0",
            "_model_name": "DescriptionStyleModel",
            "_view_count": null,
            "_view_module": "@jupyter-widgets/base",
            "_view_module_version": "1.2.0",
            "_view_name": "StyleView",
            "description_width": ""
          }
        },
        "66de34b903114852be4f5bafd0128896": {
          "model_module": "@jupyter-widgets/controls",
          "model_name": "VBoxModel",
          "model_module_version": "1.5.0",
          "state": {
            "_dom_classes": [
              "widget-interact"
            ],
            "_model_module": "@jupyter-widgets/controls",
            "_model_module_version": "1.5.0",
            "_model_name": "VBoxModel",
            "_view_count": null,
            "_view_module": "@jupyter-widgets/controls",
            "_view_module_version": "1.5.0",
            "_view_name": "VBoxView",
            "box_style": "",
            "children": [
              "IPY_MODEL_0695f9c9cf53435dbd763a0c96a09b36",
              "IPY_MODEL_a7c848e49fc14a329c1d46c53e93858b"
            ],
            "layout": "IPY_MODEL_f85f64527511440c8dcee912cdba4867"
          }
        },
        "0695f9c9cf53435dbd763a0c96a09b36": {
          "model_module": "@jupyter-widgets/controls",
          "model_name": "IntSliderModel",
          "model_module_version": "1.5.0",
          "state": {
            "_dom_classes": [],
            "_model_module": "@jupyter-widgets/controls",
            "_model_module_version": "1.5.0",
            "_model_name": "IntSliderModel",
            "_view_count": null,
            "_view_module": "@jupyter-widgets/controls",
            "_view_module_version": "1.5.0",
            "_view_name": "IntSliderView",
            "continuous_update": true,
            "description": "d",
            "description_tooltip": null,
            "disabled": false,
            "layout": "IPY_MODEL_4429e519b90c476998bc1e8f9a2f383c",
            "max": 2000,
            "min": 10,
            "orientation": "horizontal",
            "readout": true,
            "readout_format": "d",
            "step": 100,
            "style": "IPY_MODEL_78e6ee1316dc498f9159ec90eb0ee3fd",
            "value": 10
          }
        },
        "a7c848e49fc14a329c1d46c53e93858b": {
          "model_module": "@jupyter-widgets/output",
          "model_name": "OutputModel",
          "model_module_version": "1.0.0",
          "state": {
            "_dom_classes": [],
            "_model_module": "@jupyter-widgets/output",
            "_model_module_version": "1.0.0",
            "_model_name": "OutputModel",
            "_view_count": null,
            "_view_module": "@jupyter-widgets/output",
            "_view_module_version": "1.0.0",
            "_view_name": "OutputView",
            "layout": "IPY_MODEL_ccead8fc52a0487190316971bad1916d",
            "msg_id": "",
            "outputs": [
              {
                "output_type": "display_data",
                "data": {
                  "text/plain": "<Figure size 432x288 with 1 Axes>",
                  "image/png": "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\n"
                },
                "metadata": {
                  "needs_background": "light"
                }
              }
            ]
          }
        },
        "f85f64527511440c8dcee912cdba4867": {
          "model_module": "@jupyter-widgets/base",
          "model_name": "LayoutModel",
          "model_module_version": "1.2.0",
          "state": {
            "_model_module": "@jupyter-widgets/base",
            "_model_module_version": "1.2.0",
            "_model_name": "LayoutModel",
            "_view_count": null,
            "_view_module": "@jupyter-widgets/base",
            "_view_module_version": "1.2.0",
            "_view_name": "LayoutView",
            "align_content": null,
            "align_items": null,
            "align_self": null,
            "border": null,
            "bottom": null,
            "display": null,
            "flex": null,
            "flex_flow": null,
            "grid_area": null,
            "grid_auto_columns": null,
            "grid_auto_flow": null,
            "grid_auto_rows": null,
            "grid_column": null,
            "grid_gap": null,
            "grid_row": null,
            "grid_template_areas": null,
            "grid_template_columns": null,
            "grid_template_rows": null,
            "height": null,
            "justify_content": null,
            "justify_items": null,
            "left": null,
            "margin": null,
            "max_height": null,
            "max_width": null,
            "min_height": null,
            "min_width": null,
            "object_fit": null,
            "object_position": null,
            "order": null,
            "overflow": null,
            "overflow_x": null,
            "overflow_y": null,
            "padding": null,
            "right": null,
            "top": null,
            "visibility": null,
            "width": null
          }
        },
        "4429e519b90c476998bc1e8f9a2f383c": {
          "model_module": "@jupyter-widgets/base",
          "model_name": "LayoutModel",
          "model_module_version": "1.2.0",
          "state": {
            "_model_module": "@jupyter-widgets/base",
            "_model_module_version": "1.2.0",
            "_model_name": "LayoutModel",
            "_view_count": null,
            "_view_module": "@jupyter-widgets/base",
            "_view_module_version": "1.2.0",
            "_view_name": "LayoutView",
            "align_content": null,
            "align_items": null,
            "align_self": null,
            "border": null,
            "bottom": null,
            "display": null,
            "flex": null,
            "flex_flow": null,
            "grid_area": null,
            "grid_auto_columns": null,
            "grid_auto_flow": null,
            "grid_auto_rows": null,
            "grid_column": null,
            "grid_gap": null,
            "grid_row": null,
            "grid_template_areas": null,
            "grid_template_columns": null,
            "grid_template_rows": null,
            "height": null,
            "justify_content": null,
            "justify_items": null,
            "left": null,
            "margin": null,
            "max_height": null,
            "max_width": null,
            "min_height": null,
            "min_width": null,
            "object_fit": null,
            "object_position": null,
            "order": null,
            "overflow": null,
            "overflow_x": null,
            "overflow_y": null,
            "padding": null,
            "right": null,
            "top": null,
            "visibility": null,
            "width": null
          }
        },
        "78e6ee1316dc498f9159ec90eb0ee3fd": {
          "model_module": "@jupyter-widgets/controls",
          "model_name": "SliderStyleModel",
          "model_module_version": "1.5.0",
          "state": {
            "_model_module": "@jupyter-widgets/controls",
            "_model_module_version": "1.5.0",
            "_model_name": "SliderStyleModel",
            "_view_count": null,
            "_view_module": "@jupyter-widgets/base",
            "_view_module_version": "1.2.0",
            "_view_name": "StyleView",
            "description_width": "",
            "handle_color": null
          }
        },
        "ccead8fc52a0487190316971bad1916d": {
          "model_module": "@jupyter-widgets/base",
          "model_name": "LayoutModel",
          "model_module_version": "1.2.0",
          "state": {
            "_model_module": "@jupyter-widgets/base",
            "_model_module_version": "1.2.0",
            "_model_name": "LayoutModel",
            "_view_count": null,
            "_view_module": "@jupyter-widgets/base",
            "_view_module_version": "1.2.0",
            "_view_name": "LayoutView",
            "align_content": null,
            "align_items": null,
            "align_self": null,
            "border": null,
            "bottom": null,
            "display": null,
            "flex": null,
            "flex_flow": null,
            "grid_area": null,
            "grid_auto_columns": null,
            "grid_auto_flow": null,
            "grid_auto_rows": null,
            "grid_column": null,
            "grid_gap": null,
            "grid_row": null,
            "grid_template_areas": null,
            "grid_template_columns": null,
            "grid_template_rows": null,
            "height": null,
            "justify_content": null,
            "justify_items": null,
            "left": null,
            "margin": null,
            "max_height": null,
            "max_width": null,
            "min_height": null,
            "min_width": null,
            "object_fit": null,
            "object_position": null,
            "order": null,
            "overflow": null,
            "overflow_x": null,
            "overflow_y": null,
            "padding": null,
            "right": null,
            "top": null,
            "visibility": null,
            "width": null
          }
        }
      }
    }
  },
  "cells": [
    {
      "cell_type": "markdown",
      "source": [
        "##What does variance of loss represent? \n",
        "\n",
        "It measures the degree of dispersion or spread of the loss values around their mean or average.\n",
        "High variance of loss can indicate that the model is sensitive to small changes in the input data or training process, and may be overfitting to noise or outliers in the training data. This can lead to poor generalization performance on new or unseen data.\n",
        "\n",
        "Low variance of loss indicates that the model is more robust to such variations and is likely to perform well on new data."
      ],
      "metadata": {
        "id": "OIyxzhh5Uc3k"
      }
    },
    {
      "cell_type": "markdown",
      "source": [
        "In this notebook we are visualising the variance of loss w.r.t model width. \n",
        "\n",
        "Additionaly in the end we would observe \n",
        "1. Analysing variance of losses with various batch sizes for SGD optimizes"
      ],
      "metadata": {
        "id": "gyEpQOEEU97e"
      }
    },
    {
      "cell_type": "code",
      "execution_count": 1,
      "metadata": {
        "id": "bDn31fjPEuFG",
        "colab": {
          "base_uri": "https://localhost:8080/",
          "height": 410,
          "referenced_widgets": [
            "9c02d3f1764349fcbada05ae8cedecbd",
            "0cb693f3b1b8477788680ad3fc22653c",
            "0fadd16283e740dead217d9aff0b4c36",
            "81dd76bc08d94ca0852e0eb52ce68ee8",
            "1658add766704959b11d60db22c6c4ad",
            "d8dbfda309924224bc0d54d411fc6ed1",
            "3866eb5ddc4c47659c5615254a1d8869",
            "3dda12b5127041f68ade07349a8e085d",
            "835de1ac329143a6abf726e1257e624f",
            "f7c81f7b86e34778b577cd20af61cb2c",
            "fb85ce64b0224aaf83b7324de918483f",
            "f42e53bc093f4069bfe938e628e97eaf",
            "c3915c09629842b195ebc4b0da701ce3",
            "b4d0864f5c744869a04f42b7c846e05b",
            "4c6a37cb941d4abd8c4c1fc895923cc7",
            "ffe24d833d154b9c94983c352a96ced1",
            "451ddea5a9dd4220b29121d39c9f2aaa",
            "88e4ebc3637f4f92ad1c9ccc1bde1112",
            "ef42f31ad3b047bcba4d574857c9d0d6",
            "1dff0a93f2d2406da1addd356e122800",
            "d61b63da2d0d4032acd9eeffed6e3b9e",
            "4c26fae5c1bb4674b1ed5f98729ab580",
            "edcb8ee8f9294fd0b22fc44c9e015dc1",
            "d99852a2c6434e0c98dbc9d9bdbf6d47",
            "58e8c4cdc80d4d0d97c53a9484192a8a",
            "717215f52b364df9a22ac72a0de83de7",
            "d174fc744e51410fbf423ff47546419e",
            "42290d4c0afb494d88415a73b35bbfc7",
            "6a8562d09ef94467a4382b4bf9466b0b",
            "35f37301a82d4913aa636f10aaf05c52",
            "e511610f21b34b35b9268d65aca14c9a",
            "703b7be6ee02481a883e8785599d03d8",
            "14191bf198634a8d82e65d27024a6b47",
            "95d4cd8f4db14bb2ae686a7fc6e42ab5",
            "969ef26fa25647e0896d2450d83f15dc",
            "66296c1d5f304092b256d6365ef4cbb9",
            "55704d00b79e4e7690a95856e02aa8f0",
            "2195ddb9413242818ad1ce23ce4809a7",
            "10494303a4944b5499d301f31a923a83",
            "13f37eea64194c9fb55a8a750f8966f1",
            "9b707a0416da4b4e8fa4a7fff109ab69",
            "b4625bcc753c43c0a454a6e480849a8a",
            "a4789c51e0b84fc99bcfbe43b4e90b60",
            "6a2de3c94ca44b9485299ee2f6367c71"
          ]
        },
        "outputId": "39977825-eb56-4224-c4ee-6e8da95eb639"
      },
      "outputs": [
        {
          "output_type": "stream",
          "name": "stdout",
          "text": [
            "Downloading http://yann.lecun.com/exdb/mnist/train-images-idx3-ubyte.gz\n",
            "Downloading http://yann.lecun.com/exdb/mnist/train-images-idx3-ubyte.gz to ./data/MNIST/raw/train-images-idx3-ubyte.gz\n"
          ]
        },
        {
          "output_type": "display_data",
          "data": {
            "text/plain": [
              "  0%|          | 0/9912422 [00:00<?, ?it/s]"
            ],
            "application/vnd.jupyter.widget-view+json": {
              "version_major": 2,
              "version_minor": 0,
              "model_id": "9c02d3f1764349fcbada05ae8cedecbd"
            }
          },
          "metadata": {}
        },
        {
          "output_type": "stream",
          "name": "stdout",
          "text": [
            "Extracting ./data/MNIST/raw/train-images-idx3-ubyte.gz to ./data/MNIST/raw\n",
            "\n",
            "Downloading http://yann.lecun.com/exdb/mnist/train-labels-idx1-ubyte.gz\n",
            "Downloading http://yann.lecun.com/exdb/mnist/train-labels-idx1-ubyte.gz to ./data/MNIST/raw/train-labels-idx1-ubyte.gz\n"
          ]
        },
        {
          "output_type": "display_data",
          "data": {
            "text/plain": [
              "  0%|          | 0/28881 [00:00<?, ?it/s]"
            ],
            "application/vnd.jupyter.widget-view+json": {
              "version_major": 2,
              "version_minor": 0,
              "model_id": "f42e53bc093f4069bfe938e628e97eaf"
            }
          },
          "metadata": {}
        },
        {
          "output_type": "stream",
          "name": "stdout",
          "text": [
            "Extracting ./data/MNIST/raw/train-labels-idx1-ubyte.gz to ./data/MNIST/raw\n",
            "\n",
            "Downloading http://yann.lecun.com/exdb/mnist/t10k-images-idx3-ubyte.gz\n",
            "Downloading http://yann.lecun.com/exdb/mnist/t10k-images-idx3-ubyte.gz to ./data/MNIST/raw/t10k-images-idx3-ubyte.gz\n"
          ]
        },
        {
          "output_type": "display_data",
          "data": {
            "text/plain": [
              "  0%|          | 0/1648877 [00:00<?, ?it/s]"
            ],
            "application/vnd.jupyter.widget-view+json": {
              "version_major": 2,
              "version_minor": 0,
              "model_id": "edcb8ee8f9294fd0b22fc44c9e015dc1"
            }
          },
          "metadata": {}
        },
        {
          "output_type": "stream",
          "name": "stdout",
          "text": [
            "Extracting ./data/MNIST/raw/t10k-images-idx3-ubyte.gz to ./data/MNIST/raw\n",
            "\n",
            "Downloading http://yann.lecun.com/exdb/mnist/t10k-labels-idx1-ubyte.gz\n",
            "Downloading http://yann.lecun.com/exdb/mnist/t10k-labels-idx1-ubyte.gz to ./data/MNIST/raw/t10k-labels-idx1-ubyte.gz\n"
          ]
        },
        {
          "output_type": "display_data",
          "data": {
            "text/plain": [
              "  0%|          | 0/4542 [00:00<?, ?it/s]"
            ],
            "application/vnd.jupyter.widget-view+json": {
              "version_major": 2,
              "version_minor": 0,
              "model_id": "95d4cd8f4db14bb2ae686a7fc6e42ab5"
            }
          },
          "metadata": {}
        },
        {
          "output_type": "stream",
          "name": "stdout",
          "text": [
            "Extracting ./data/MNIST/raw/t10k-labels-idx1-ubyte.gz to ./data/MNIST/raw\n",
            "\n"
          ]
        }
      ],
      "source": [
        "import torch\n",
        "import torch.nn as nn\n",
        "import torch.optim as optim\n",
        "import torchvision.datasets as datasets\n",
        "import torchvision.transforms as transforms\n",
        "import numpy as np\n",
        "import matplotlib.pyplot as plt\n",
        "\n",
        "# Define device\n",
        "device = torch.device('cuda' if torch.cuda.is_available() else 'cpu')\n",
        "\n",
        "# Load MNIST data\n",
        "train_data = datasets.MNIST(root='./data', train=True, transform=transforms.ToTensor(), download=True)\n",
        "test_data = datasets.MNIST(root='./data', train=False, transform=transforms.ToTensor(), download=True)\n",
        "train_loader = torch.utils.data.DataLoader(train_data, batch_size=32, shuffle=True)\n",
        "test_loader = torch.utils.data.DataLoader(test_data, batch_size=128, shuffle=False)"
      ]
    },
    {
      "cell_type": "markdown",
      "source": [
        "##Two layer model architecture as defined in paper "
      ],
      "metadata": {
        "id": "YrJT0ZDgBz6n"
      }
    },
    {
      "cell_type": "code",
      "source": [
        "# Define model architecture and hyperparameters\n",
        "class TwoLayerNet(nn.Module):\n",
        "    def __init__(self, hidden_width):\n",
        "        super(TwoLayerNet, self).__init__()\n",
        "        self.fc1 = nn.Linear(784, hidden_width)\n",
        "        self.act1 = nn.Tanh()\n",
        "        self.fc2 = nn.Linear(hidden_width, 10)  # output layer for 10 classes\n",
        "\n",
        "    def forward(self, x):\n",
        "        x = x.view(-1, 784)\n",
        "        x = self.act1(self.fc1(x))\n",
        "        x = self.fc2(x)\n",
        "        return x"
      ],
      "metadata": {
        "id": "_KDddCtTfrc_"
      },
      "execution_count": 2,
      "outputs": []
    },
    {
      "cell_type": "code",
      "source": [
        "lr = 0.5\n",
        "weight_decay = 1e-6\n",
        "momentum = 0.9\n",
        "nesterov = True\n",
        "# lambda_val = 0.01\n",
        "sigma = 0.1  # label noise std dev\n",
        "d_values = [100, 200, 300, 400, 500, 600, 700, 800, 900, 1000]"
      ],
      "metadata": {
        "id": "tAKo6OGwoGSD"
      },
      "execution_count": 3,
      "outputs": []
    },
    {
      "cell_type": "markdown",
      "source": [
        "##Note: In both the scenarios, with constant and varying learning rates, there is a noise added as mentioned in paper. "
      ],
      "metadata": {
        "id": "vn8aQfMbB7Jw"
      }
    },
    {
      "cell_type": "markdown",
      "source": [
        "###Varying learning rate "
      ],
      "metadata": {
        "id": "pKkF-w_IB8_A"
      }
    },
    {
      "cell_type": "markdown",
      "source": [
        "##With λ = 0.5/d"
      ],
      "metadata": {
        "id": "9JZWGC1mfz9-"
      }
    },
    {
      "cell_type": "code",
      "source": [
        "variance_values_varying_learning_rate = []\n",
        "for d in d_values:\n",
        "    model = TwoLayerNet(d).to(device)\n",
        "    optimizer = optim.SGD(model.parameters(), lr=lr/d, momentum=momentum, weight_decay=weight_decay)\n",
        "    loss_fn = nn.CrossEntropyLoss()\n",
        "\n",
        "    model.train()\n",
        "    loss_values = []\n",
        "    for batch_idx, (data, target) in enumerate(train_loader):\n",
        "        data, target = data.to(device), target.to(device)\n",
        "        optimizer.zero_grad()\n",
        "        output = model(data)\n",
        "        noise = torch.randn_like(target.float()) * sigma\n",
        "        noisy_target = torch.clamp((target + noise).long(), 0, 9)  # clamp noisy target between 0 and 9\n",
        "        loss = loss_fn(output, noisy_target)\n",
        "        loss.backward()\n",
        "        optimizer.step()\n",
        "        loss_values.append(loss.item())\n",
        "    \n",
        "    variance = torch.var(torch.tensor(loss_values))\n",
        "    variance_values_varying_learning_rate.append(variance.item())"
      ],
      "metadata": {
        "id": "tOtT7_c-fwl1"
      },
      "execution_count": null,
      "outputs": []
    },
    {
      "cell_type": "markdown",
      "source": [
        "##Constant learning rate "
      ],
      "metadata": {
        "id": "JfyH_mV1CDJj"
      }
    },
    {
      "cell_type": "markdown",
      "source": [
        "##With λ = 0.5\n"
      ],
      "metadata": {
        "id": "CE6wkJ7Tf9fT"
      }
    },
    {
      "cell_type": "code",
      "source": [
        "variance_values_constant_learning_rate = []\n",
        "for d in d_values:\n",
        "    model = TwoLayerNet(d).to(device)\n",
        "    optimizer = optim.SGD(model.parameters(), lr=lr, momentum=momentum, weight_decay=weight_decay)\n",
        "    loss_fn = nn.CrossEntropyLoss()\n",
        "\n",
        "    model.train()\n",
        "    loss_values = []\n",
        "    for batch_idx, (data, target) in enumerate(train_loader):\n",
        "        data, target = data.to(device), target.to(device)\n",
        "        optimizer.zero_grad()\n",
        "        output = model(data)\n",
        "        noise = torch.randn_like(target.float()) * sigma\n",
        "        noisy_target = torch.clamp((target + noise).long(), 0, 9)  # clamp noisy target between 0 and 9\n",
        "        loss = loss_fn(output, noisy_target)\n",
        "        loss.backward()\n",
        "        optimizer.step()\n",
        "        loss_values.append(loss.item())\n",
        "    \n",
        "    variance = torch.var(torch.tensor(loss_values))\n",
        "    variance_values_constant_learning_rate.append(variance.item())"
      ],
      "metadata": {
        "id": "7l3SLjEBbR0O"
      },
      "execution_count": null,
      "outputs": []
    },
    {
      "cell_type": "markdown",
      "source": [
        "##Results\n",
        "This is to depict results from paper that variance explodes after d ≥ 200. In contrast, rescaling the learning rate by 1/d results in a constant noise level in training\n",
        "\n",
        "Note: Results are not exactly matching as in paper \n",
        "Few things still to try\n",
        "1. Use diffrent batch sizes \n",
        "2. Using different weight decay values "
      ],
      "metadata": {
        "id": "E-chQX_W_b94"
      }
    },
    {
      "cell_type": "code",
      "source": [
        "import matplotlib.pyplot as plt\n",
        "\n",
        "model_width_values = [100, 200, 300, 400, 500, 600, 700, 800, 900, 1000]\n",
        "\n",
        "# plot the data\n",
        "plt.plot(model_width_values, variance_values_varying_learning_rate,'o', label=r'$\\lambda = \\frac{0.5}{d}$')\n",
        "plt.plot(model_width_values, variance_values_constant_learning_rate, 'o', label=r'$\\lambda = 0.5$')\n",
        "plt.legend()\n",
        "plt.xlabel('Model Width Values')\n",
        "plt.ylabel('Variance Values')\n",
        "plt.title('Variance Values vs Model Width Values')\n",
        "plt.show()"
      ],
      "metadata": {
        "colab": {
          "base_uri": "https://localhost:8080/",
          "height": 316
        },
        "id": "axHDSeV39ZFW",
        "outputId": "606e9d74-f8b8-4071-998a-558941b8ecd8"
      },
      "execution_count": null,
      "outputs": [
        {
          "output_type": "display_data",
          "data": {
            "text/plain": [
              "<Figure size 432x288 with 1 Axes>"
            ],
            "image/png": "[encoded data removed]"
          },
          "metadata": {
            "needs_background": "light"
          }
        }
      ]
    },
    {
      "cell_type": "markdown",
      "source": [
        "##Additional "
      ],
      "metadata": {
        "id": "3cIJWGvrCmQt"
      }
    },
    {
      "cell_type": "markdown",
      "source": [
        "##Analysing variance of losses with various batch sizes for SGD optimizes"
      ],
      "metadata": {
        "id": "z9okQc00VxeA"
      }
    },
    {
      "cell_type": "code",
      "source": [
        "variance_values = []\n",
        "batch_sizes = [32, 64, 128, 256, 512, 1024]\n",
        "\n",
        "for batch_size in batch_sizes:\n",
        "    train_loader = torch.utils.data.DataLoader(train_data, batch_size=batch_size, shuffle=True)\n",
        "    variance_values_batch_size = []\n",
        "    for d in d_values:\n",
        "        model = TwoLayerNet(d).to(device)\n",
        "        optimizer = optim.SGD(model.parameters(), lr=lr, momentum=momentum, weight_decay=weight_decay)\n",
        "        loss_fn = nn.CrossEntropyLoss()\n",
        "\n",
        "        model.train()\n",
        "        loss_values = []\n",
        "        for batch_idx, (data, target) in enumerate(train_loader):\n",
        "            data, target = data.to(device), target.to(device)\n",
        "            optimizer.zero_grad()\n",
        "            output = model(data)\n",
        "            loss = loss_fn(output, target)\n",
        "            loss.backward()\n",
        "            optimizer.step()\n",
        "            loss_values.append(loss.item())\n",
        "\n",
        "        variance = torch.var(torch.tensor(loss_values))\n",
        "        variance_values_batch_size.append(variance.item())\n",
        "    variance_values.append(variance_values_batch_size)"
      ],
      "metadata": {
        "id": "3mfzpA91Cn8F"
      },
      "execution_count": null,
      "outputs": []
    },
    {
      "cell_type": "code",
      "source": [
        "import matplotlib.pyplot as plt\n",
        "\n",
        "batch_sizes = [32, 64, 128, 256, 512, 1024]\n",
        "model_width_values = [100, 200, 300, 400, 500, 600, 700, 800, 900, 1000]\n",
        "\n",
        "# Create a 2x3 subplot grid\n",
        "fig, axs = plt.subplots(nrows=2, ncols=3, figsize=(12, 8))\n",
        "\n",
        "variances = variance_values\n",
        "\n",
        "# Loop through the batch sizes and plot the data on the corresponding subplot\n",
        "for i, batch_size in enumerate(batch_sizes):\n",
        "    row = i // 3\n",
        "    col = i % 3\n",
        "    ax = axs[row, col]\n",
        "    ax.plot(model_width_values, variances[i])\n",
        "    ax.set_title(f'Batch size = {batch_size}')\n",
        "    ax.set_xlabel('Model Width')\n",
        "    ax.set_ylabel('Variance of Loss')\n",
        "\n",
        "plt.tight_layout()\n",
        "plt.show()"
      ],
      "metadata": {
        "colab": {
          "base_uri": "https://localhost:8080/",
          "height": 606
        },
        "id": "HvspmEJtYV-L",
        "outputId": "e9e24901-becf-41c2-b914-3058d656ef35"
      },
      "execution_count": null,
      "outputs": [
        {
          "output_type": "display_data",
          "data": {
            "text/plain": [
              "<Figure size 864x576 with 6 Axes>"
            ],
            "image/png": "[encoded data removed]"
          },
          "metadata": {
            "needs_background": "light"
          }
        }
      ]
    },
    {
      "cell_type": "markdown",
      "source": [
        "###Observation: \n",
        "In general, larger batch sizes tend to result in a lower variance of loss compared to smaller batch sizes. This is because larger batches provide a more stable estimate of the gradient, which reduces the effect of noisy or random fluctuations in the data. This can lead to a more consistent and stable training process, and can help prevent overfitting to the training data.\n"
      ],
      "metadata": {
        "id": "gJZp6NYVaHJM"
      }
    },
    {
      "cell_type": "markdown",
      "source": [
        "###Visualising variance of loss w.r.t model width"
      ],
      "metadata": {
        "id": "a2m3FFw3ZoP1"
      }
    },
    {
      "cell_type": "code",
      "source": [
        "import matplotlib.pyplot as plt\n",
        "import ipywidgets as widgets\n",
        "\n",
        "# define function to calculate variance of loss w.r.t model width d\n",
        "def calculate_variance(d):\n",
        "    model = TwoLayerNet(d).to(device)\n",
        "    optimizer = optim.SGD(model.parameters(), lr=lr, momentum=momentum, weight_decay=weight_decay)\n",
        "    loss_fn = nn.CrossEntropyLoss()\n",
        "\n",
        "    model.train()\n",
        "    loss_values = []\n",
        "    for batch_idx, (data, target) in enumerate(train_loader):\n",
        "        data, target = data.to(device), target.to(device)\n",
        "        optimizer.zero_grad()\n",
        "        output = model(data)\n",
        "        noise = torch.randn_like(target.float()) * sigma\n",
        "        noisy_target = torch.clamp((target + noise).long(), 0, 9)  # clamp noisy target between 0 and 9\n",
        "        loss = loss_fn(output, noisy_target)\n",
        "        loss.backward()\n",
        "        optimizer.step()\n",
        "        loss_values.append(loss.item())\n",
        "\n",
        "    variance = torch.var(torch.tensor(loss_values))\n",
        "    return variance.item()\n",
        "\n",
        "# define range of model widths to explore\n",
        "d_values = range(10, 2001, 100)\n",
        "\n",
        "# calculate variances for each width\n",
        "variance_values_constant_learning_rate = [calculate_variance(d) for d in d_values]\n",
        "\n",
        "# plot variance vs. model width\n",
        "plt.plot(d_values, variance_values_constant_learning_rate)\n",
        "plt.xlabel('Model Width')\n",
        "plt.ylabel('Variance of Loss')\n",
        "plt.title('Variance of Loss vs. Model Width')\n",
        "plt.show()\n",
        "\n",
        "# create slider to interactively explore variance vs. model width\n",
        "slider = widgets.IntSlider(min=10, max=2000, step=100, value=500)\n",
        "def update_plot(d):\n",
        "    variance = calculate_variance(d)\n",
        "    plt.plot(d_values, variance_values_constant_learning_rate)\n",
        "    plt.plot(d, variance, 'ro')\n",
        "    plt.xlabel('Model Width')\n",
        "    plt.ylabel('Variance of Loss')\n",
        "    plt.title('Variance of Loss vs. Model Width')\n",
        "    plt.show()\n",
        "widgets.interact(update_plot, d=slider)"
      ],
      "metadata": {
        "colab": {
          "base_uri": "https://localhost:8080/",
          "height": 622,
          "referenced_widgets": [
            "66de34b903114852be4f5bafd0128896",
            "0695f9c9cf53435dbd763a0c96a09b36",
            "a7c848e49fc14a329c1d46c53e93858b",
            "f85f64527511440c8dcee912cdba4867",
            "4429e519b90c476998bc1e8f9a2f383c",
            "78e6ee1316dc498f9159ec90eb0ee3fd",
            "ccead8fc52a0487190316971bad1916d"
          ]
        },
        "id": "rMbBBUDZ_CXO",
        "outputId": "2c060ea0-2be0-46fb-b704-736b2ae70824"
      },
      "execution_count": 10,
      "outputs": [
        {
          "output_type": "display_data",
          "data": {
            "text/plain": [
              "<Figure size 432x288 with 1 Axes>"
            ],
            "image/png": "[encoded data removed]"
          },
          "metadata": {
            "needs_background": "light"
          }
        },
        {
          "output_type": "display_data",
          "data": {
            "text/plain": [
              "interactive(children=(IntSlider(value=500, description='d', max=2000, min=10, step=100), Output()), _dom_class…"
            ],
            "application/vnd.jupyter.widget-view+json": {
              "version_major": 2,
              "version_minor": 0,
              "model_id": "66de34b903114852be4f5bafd0128896"
            }
          },
          "metadata": {}
        },
        {
          "output_type": "execute_result",
          "data": {
            "text/plain": [
              "<function __main__.update_plot(d)>"
            ]
          },
          "metadata": {},
          "execution_count": 10
        }
      ]
    }
  ]
}