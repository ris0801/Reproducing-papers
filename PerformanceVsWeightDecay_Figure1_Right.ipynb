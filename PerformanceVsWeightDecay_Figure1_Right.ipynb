{
  "nbformat": 4,
  "nbformat_minor": 0,
  "metadata": {
    "colab": {
      "provenance": [],
      "authorship_tag": "ABX9TyPof3aSKap3S6AcPRR8Di50"
    },
    "kernelspec": {
      "name": "python3",
      "display_name": "Python 3"
    },
    "language_info": {
      "name": "python"
    },
    "gpuClass": "standard",
    "accelerator": "GPU",
    "widgets": {
      "application/vnd.jupyter.widget-state+json": {
        "13db5544bfaa4769a5c5679e9768a6e2": {
          "model_module": "@jupyter-widgets/controls",
          "model_name": "HBoxModel",
          "model_module_version": "1.5.0",
          "state": {
            "_dom_classes": [],
            "_model_module": "@jupyter-widgets/controls",
            "_model_module_version": "1.5.0",
            "_model_name": "HBoxModel",
            "_view_count": null,
            "_view_module": "@jupyter-widgets/controls",
            "_view_module_version": "1.5.0",
            "_view_name": "HBoxView",
            "box_style": "",
            "children": [
              "IPY_MODEL_8e372243bb81456ea1e5a0cf2a283e35",
              "IPY_MODEL_44abae11be89485e8af32e11e3bc26f7",
              "IPY_MODEL_ecff604e492640e7b80c7dc8b55ea28d"
            ],
            "layout": "IPY_MODEL_e2ddcd6a1efa478f876dee75f51e9cfb"
          }
        },
        "8e372243bb81456ea1e5a0cf2a283e35": {
          "model_module": "@jupyter-widgets/controls",
          "model_name": "HTMLModel",
          "model_module_version": "1.5.0",
          "state": {
            "_dom_classes": [],
            "_model_module": "@jupyter-widgets/controls",
            "_model_module_version": "1.5.0",
            "_model_name": "HTMLModel",
            "_view_count": null,
            "_view_module": "@jupyter-widgets/controls",
            "_view_module_version": "1.5.0",
            "_view_name": "HTMLView",
            "description": "",
            "description_tooltip": null,
            "layout": "IPY_MODEL_28c59184134343b89101a9895a3b1e8e",
            "placeholder": "​",
            "style": "IPY_MODEL_8bfb9fe8980c402cbbf729b0b7104d79",
            "value": "100%"
          }
        },
        "44abae11be89485e8af32e11e3bc26f7": {
          "model_module": "@jupyter-widgets/controls",
          "model_name": "FloatProgressModel",
          "model_module_version": "1.5.0",
          "state": {
            "_dom_classes": [],
            "_model_module": "@jupyter-widgets/controls",
            "_model_module_version": "1.5.0",
            "_model_name": "FloatProgressModel",
            "_view_count": null,
            "_view_module": "@jupyter-widgets/controls",
            "_view_module_version": "1.5.0",
            "_view_name": "ProgressView",
            "bar_style": "success",
            "description": "",
            "description_tooltip": null,
            "layout": "IPY_MODEL_299a194ef0954a15bca65de39cdb383f",
            "max": 9912422,
            "min": 0,
            "orientation": "horizontal",
            "style": "IPY_MODEL_02274b5793ef4d4db3a39f089c89cd22",
            "value": 9912422
          }
        },
        "ecff604e492640e7b80c7dc8b55ea28d": {
          "model_module": "@jupyter-widgets/controls",
          "model_name": "HTMLModel",
          "model_module_version": "1.5.0",
          "state": {
            "_dom_classes": [],
            "_model_module": "@jupyter-widgets/controls",
            "_model_module_version": "1.5.0",
            "_model_name": "HTMLModel",
            "_view_count": null,
            "_view_module": "@jupyter-widgets/controls",
            "_view_module_version": "1.5.0",
            "_view_name": "HTMLView",
            "description": "",
            "description_tooltip": null,
            "layout": "IPY_MODEL_692c1c1ddbf644fb98b1f8b089c71099",
            "placeholder": "​",
            "style": "IPY_MODEL_78c31ebb4551403e81007e2c4e86772e",
            "value": " 9912422/9912422 [00:00&lt;00:00, 23911598.26it/s]"
          }
        },
        "e2ddcd6a1efa478f876dee75f51e9cfb": {
          "model_module": "@jupyter-widgets/base",
          "model_name": "LayoutModel",
          "model_module_version": "1.2.0",
          "state": {
            "_model_module": "@jupyter-widgets/base",
            "_model_module_version": "1.2.0",
            "_model_name": "LayoutModel",
            "_view_count": null,
            "_view_module": "@jupyter-widgets/base",
            "_view_module_version": "1.2.0",
            "_view_name": "LayoutView",
            "align_content": null,
            "align_items": null,
            "align_self": null,
            "border": null,
            "bottom": null,
            "display": null,
            "flex": null,
            "flex_flow": null,
            "grid_area": null,
            "grid_auto_columns": null,
            "grid_auto_flow": null,
            "grid_auto_rows": null,
            "grid_column": null,
            "grid_gap": null,
            "grid_row": null,
            "grid_template_areas": null,
            "grid_template_columns": null,
            "grid_template_rows": null,
            "height": null,
            "justify_content": null,
            "justify_items": null,
            "left": null,
            "margin": null,
            "max_height": null,
            "max_width": null,
            "min_height": null,
            "min_width": null,
            "object_fit": null,
            "object_position": null,
            "order": null,
            "overflow": null,
            "overflow_x": null,
            "overflow_y": null,
            "padding": null,
            "right": null,
            "top": null,
            "visibility": null,
            "width": null
          }
        },
        "28c59184134343b89101a9895a3b1e8e": {
          "model_module": "@jupyter-widgets/base",
          "model_name": "LayoutModel",
          "model_module_version": "1.2.0",
          "state": {
            "_model_module": "@jupyter-widgets/base",
            "_model_module_version": "1.2.0",
            "_model_name": "LayoutModel",
            "_view_count": null,
            "_view_module": "@jupyter-widgets/base",
            "_view_module_version": "1.2.0",
            "_view_name": "LayoutView",
            "align_content": null,
            "align_items": null,
            "align_self": null,
            "border": null,
            "bottom": null,
            "display": null,
            "flex": null,
            "flex_flow": null,
            "grid_area": null,
            "grid_auto_columns": null,
            "grid_auto_flow": null,
            "grid_auto_rows": null,
            "grid_column": null,
            "grid_gap": null,
            "grid_row": null,
            "grid_template_areas": null,
            "grid_template_columns": null,
            "grid_template_rows": null,
            "height": null,
            "justify_content": null,
            "justify_items": null,
            "left": null,
            "margin": null,
            "max_height": null,
            "max_width": null,
            "min_height": null,
            "min_width": null,
            "object_fit": null,
            "object_position": null,
            "order": null,
            "overflow": null,
            "overflow_x": null,
            "overflow_y": null,
            "padding": null,
            "right": null,
            "top": null,
            "visibility": null,
            "width": null
          }
        },
        "8bfb9fe8980c402cbbf729b0b7104d79": {
          "model_module": "@jupyter-widgets/controls",
          "model_name": "DescriptionStyleModel",
          "model_module_version": "1.5.0",
          "state": {
            "_model_module": "@jupyter-widgets/controls",
            "_model_module_version": "1.5.0",
            "_model_name": "DescriptionStyleModel",
            "_view_count": null,
            "_view_module": "@jupyter-widgets/base",
            "_view_module_version": "1.2.0",
            "_view_name": "StyleView",
            "description_width": ""
          }
        },
        "299a194ef0954a15bca65de39cdb383f": {
          "model_module": "@jupyter-widgets/base",
          "model_name": "LayoutModel",
          "model_module_version": "1.2.0",
          "state": {
            "_model_module": "@jupyter-widgets/base",
            "_model_module_version": "1.2.0",
            "_model_name": "LayoutModel",
            "_view_count": null,
            "_view_module": "@jupyter-widgets/base",
            "_view_module_version": "1.2.0",
            "_view_name": "LayoutView",
            "align_content": null,
            "align_items": null,
            "align_self": null,
            "border": null,
            "bottom": null,
            "display": null,
            "flex": null,
            "flex_flow": null,
            "grid_area": null,
            "grid_auto_columns": null,
            "grid_auto_flow": null,
            "grid_auto_rows": null,
            "grid_column": null,
            "grid_gap": null,
            "grid_row": null,
            "grid_template_areas": null,
            "grid_template_columns": null,
            "grid_template_rows": null,
            "height": null,
            "justify_content": null,
            "justify_items": null,
            "left": null,
            "margin": null,
            "max_height": null,
            "max_width": null,
            "min_height": null,
            "min_width": null,
            "object_fit": null,
            "object_position": null,
            "order": null,
            "overflow": null,
            "overflow_x": null,
            "overflow_y": null,
            "padding": null,
            "right": null,
            "top": null,
            "visibility": null,
            "width": null
          }
        },
        "02274b5793ef4d4db3a39f089c89cd22": {
          "model_module": "@jupyter-widgets/controls",
          "model_name": "ProgressStyleModel",
          "model_module_version": "1.5.0",
          "state": {
            "_model_module": "@jupyter-widgets/controls",
            "_model_module_version": "1.5.0",
            "_model_name": "ProgressStyleModel",
            "_view_count": null,
            "_view_module": "@jupyter-widgets/base",
            "_view_module_version": "1.2.0",
            "_view_name": "StyleView",
            "bar_color": null,
            "description_width": ""
          }
        },
        "692c1c1ddbf644fb98b1f8b089c71099": {
          "model_module": "@jupyter-widgets/base",
          "model_name": "LayoutModel",
          "model_module_version": "1.2.0",
          "state": {
            "_model_module": "@jupyter-widgets/base",
            "_model_module_version": "1.2.0",
            "_model_name": "LayoutModel",
            "_view_count": null,
            "_view_module": "@jupyter-widgets/base",
            "_view_module_version": "1.2.0",
            "_view_name": "LayoutView",
            "align_content": null,
            "align_items": null,
            "align_self": null,
            "border": null,
            "bottom": null,
            "display": null,
            "flex": null,
            "flex_flow": null,
            "grid_area": null,
            "grid_auto_columns": null,
            "grid_auto_flow": null,
            "grid_auto_rows": null,
            "grid_column": null,
            "grid_gap": null,
            "grid_row": null,
            "grid_template_areas": null,
            "grid_template_columns": null,
            "grid_template_rows": null,
            "height": null,
            "justify_content": null,
            "justify_items": null,
            "left": null,
            "margin": null,
            "max_height": null,
            "max_width": null,
            "min_height": null,
            "min_width": null,
            "object_fit": null,
            "object_position": null,
            "order": null,
            "overflow": null,
            "overflow_x": null,
            "overflow_y": null,
            "padding": null,
            "right": null,
            "top": null,
            "visibility": null,
            "width": null
          }
        },
        "78c31ebb4551403e81007e2c4e86772e": {
          "model_module": "@jupyter-widgets/controls",
          "model_name": "DescriptionStyleModel",
          "model_module_version": "1.5.0",
          "state": {
            "_model_module": "@jupyter-widgets/controls",
            "_model_module_version": "1.5.0",
            "_model_name": "DescriptionStyleModel",
            "_view_count": null,
            "_view_module": "@jupyter-widgets/base",
            "_view_module_version": "1.2.0",
            "_view_name": "StyleView",
            "description_width": ""
          }
        },
        "8e39256b42144dfb8e94164901295524": {
          "model_module": "@jupyter-widgets/controls",
          "model_name": "HBoxModel",
          "model_module_version": "1.5.0",
          "state": {
            "_dom_classes": [],
            "_model_module": "@jupyter-widgets/controls",
            "_model_module_version": "1.5.0",
            "_model_name": "HBoxModel",
            "_view_count": null,
            "_view_module": "@jupyter-widgets/controls",
            "_view_module_version": "1.5.0",
            "_view_name": "HBoxView",
            "box_style": "",
            "children": [
              "IPY_MODEL_ea2f13012d764657b4ae75a8c3593d7b",
              "IPY_MODEL_bb6c45659ac548d795140af6cf4076b4",
              "IPY_MODEL_a934aa234f6b451e94b2258c638ab063"
            ],
            "layout": "IPY_MODEL_2f1903968d3c469382cf9ae69466c606"
          }
        },
        "ea2f13012d764657b4ae75a8c3593d7b": {
          "model_module": "@jupyter-widgets/controls",
          "model_name": "HTMLModel",
          "model_module_version": "1.5.0",
          "state": {
            "_dom_classes": [],
            "_model_module": "@jupyter-widgets/controls",
            "_model_module_version": "1.5.0",
            "_model_name": "HTMLModel",
            "_view_count": null,
            "_view_module": "@jupyter-widgets/controls",
            "_view_module_version": "1.5.0",
            "_view_name": "HTMLView",
            "description": "",
            "description_tooltip": null,
            "layout": "IPY_MODEL_9d54f85ab53447d482ec03484cbae2b4",
            "placeholder": "​",
            "style": "IPY_MODEL_215492e7d8dd4a108c7d4f1a5ef89045",
            "value": "100%"
          }
        },
        "bb6c45659ac548d795140af6cf4076b4": {
          "model_module": "@jupyter-widgets/controls",
          "model_name": "FloatProgressModel",
          "model_module_version": "1.5.0",
          "state": {
            "_dom_classes": [],
            "_model_module": "@jupyter-widgets/controls",
            "_model_module_version": "1.5.0",
            "_model_name": "FloatProgressModel",
            "_view_count": null,
            "_view_module": "@jupyter-widgets/controls",
            "_view_module_version": "1.5.0",
            "_view_name": "ProgressView",
            "bar_style": "success",
            "description": "",
            "description_tooltip": null,
            "layout": "IPY_MODEL_f5ef9c13a7024a44ae8c8c64a8561dcf",
            "max": 28881,
            "min": 0,
            "orientation": "horizontal",
            "style": "IPY_MODEL_25003396bfda44d5b15836af1a5761d8",
            "value": 28881
          }
        },
        "a934aa234f6b451e94b2258c638ab063": {
          "model_module": "@jupyter-widgets/controls",
          "model_name": "HTMLModel",
          "model_module_version": "1.5.0",
          "state": {
            "_dom_classes": [],
            "_model_module": "@jupyter-widgets/controls",
            "_model_module_version": "1.5.0",
            "_model_name": "HTMLModel",
            "_view_count": null,
            "_view_module": "@jupyter-widgets/controls",
            "_view_module_version": "1.5.0",
            "_view_name": "HTMLView",
            "description": "",
            "description_tooltip": null,
            "layout": "IPY_MODEL_966528146a70481195ee4e2f63b1f386",
            "placeholder": "​",
            "style": "IPY_MODEL_eb0671448f35474fab72216aa82aafa5",
            "value": " 28881/28881 [00:00&lt;00:00, 501014.12it/s]"
          }
        },
        "2f1903968d3c469382cf9ae69466c606": {
          "model_module": "@jupyter-widgets/base",
          "model_name": "LayoutModel",
          "model_module_version": "1.2.0",
          "state": {
            "_model_module": "@jupyter-widgets/base",
            "_model_module_version": "1.2.0",
            "_model_name": "LayoutModel",
            "_view_count": null,
            "_view_module": "@jupyter-widgets/base",
            "_view_module_version": "1.2.0",
            "_view_name": "LayoutView",
            "align_content": null,
            "align_items": null,
            "align_self": null,
            "border": null,
            "bottom": null,
            "display": null,
            "flex": null,
            "flex_flow": null,
            "grid_area": null,
            "grid_auto_columns": null,
            "grid_auto_flow": null,
            "grid_auto_rows": null,
            "grid_column": null,
            "grid_gap": null,
            "grid_row": null,
            "grid_template_areas": null,
            "grid_template_columns": null,
            "grid_template_rows": null,
            "height": null,
            "justify_content": null,
            "justify_items": null,
            "left": null,
            "margin": null,
            "max_height": null,
            "max_width": null,
            "min_height": null,
            "min_width": null,
            "object_fit": null,
            "object_position": null,
            "order": null,
            "overflow": null,
            "overflow_x": null,
            "overflow_y": null,
            "padding": null,
            "right": null,
            "top": null,
            "visibility": null,
            "width": null
          }
        },
        "9d54f85ab53447d482ec03484cbae2b4": {
          "model_module": "@jupyter-widgets/base",
          "model_name": "LayoutModel",
          "model_module_version": "1.2.0",
          "state": {
            "_model_module": "@jupyter-widgets/base",
            "_model_module_version": "1.2.0",
            "_model_name": "LayoutModel",
            "_view_count": null,
            "_view_module": "@jupyter-widgets/base",
            "_view_module_version": "1.2.0",
            "_view_name": "LayoutView",
            "align_content": null,
            "align_items": null,
            "align_self": null,
            "border": null,
            "bottom": null,
            "display": null,
            "flex": null,
            "flex_flow": null,
            "grid_area": null,
            "grid_auto_columns": null,
            "grid_auto_flow": null,
            "grid_auto_rows": null,
            "grid_column": null,
            "grid_gap": null,
            "grid_row": null,
            "grid_template_areas": null,
            "grid_template_columns": null,
            "grid_template_rows": null,
            "height": null,
            "justify_content": null,
            "justify_items": null,
            "left": null,
            "margin": null,
            "max_height": null,
            "max_width": null,
            "min_height": null,
            "min_width": null,
            "object_fit": null,
            "object_position": null,
            "order": null,
            "overflow": null,
            "overflow_x": null,
            "overflow_y": null,
            "padding": null,
            "right": null,
            "top": null,
            "visibility": null,
            "width": null
          }
        },
        "215492e7d8dd4a108c7d4f1a5ef89045": {
          "model_module": "@jupyter-widgets/controls",
          "model_name": "DescriptionStyleModel",
          "model_module_version": "1.5.0",
          "state": {
            "_model_module": "@jupyter-widgets/controls",
            "_model_module_version": "1.5.0",
            "_model_name": "DescriptionStyleModel",
            "_view_count": null,
            "_view_module": "@jupyter-widgets/base",
            "_view_module_version": "1.2.0",
            "_view_name": "StyleView",
            "description_width": ""
          }
        },
        "f5ef9c13a7024a44ae8c8c64a8561dcf": {
          "model_module": "@jupyter-widgets/base",
          "model_name": "LayoutModel",
          "model_module_version": "1.2.0",
          "state": {
            "_model_module": "@jupyter-widgets/base",
            "_model_module_version": "1.2.0",
            "_model_name": "LayoutModel",
            "_view_count": null,
            "_view_module": "@jupyter-widgets/base",
            "_view_module_version": "1.2.0",
            "_view_name": "LayoutView",
            "align_content": null,
            "align_items": null,
            "align_self": null,
            "border": null,
            "bottom": null,
            "display": null,
            "flex": null,
            "flex_flow": null,
            "grid_area": null,
            "grid_auto_columns": null,
            "grid_auto_flow": null,
            "grid_auto_rows": null,
            "grid_column": null,
            "grid_gap": null,
            "grid_row": null,
            "grid_template_areas": null,
            "grid_template_columns": null,
            "grid_template_rows": null,
            "height": null,
            "justify_content": null,
            "justify_items": null,
            "left": null,
            "margin": null,
            "max_height": null,
            "max_width": null,
            "min_height": null,
            "min_width": null,
            "object_fit": null,
            "object_position": null,
            "order": null,
            "overflow": null,
            "overflow_x": null,
            "overflow_y": null,
            "padding": null,
            "right": null,
            "top": null,
            "visibility": null,
            "width": null
          }
        },
        "25003396bfda44d5b15836af1a5761d8": {
          "model_module": "@jupyter-widgets/controls",
          "model_name": "ProgressStyleModel",
          "model_module_version": "1.5.0",
          "state": {
            "_model_module": "@jupyter-widgets/controls",
            "_model_module_version": "1.5.0",
            "_model_name": "ProgressStyleModel",
            "_view_count": null,
            "_view_module": "@jupyter-widgets/base",
            "_view_module_version": "1.2.0",
            "_view_name": "StyleView",
            "bar_color": null,
            "description_width": ""
          }
        },
        "966528146a70481195ee4e2f63b1f386": {
          "model_module": "@jupyter-widgets/base",
          "model_name": "LayoutModel",
          "model_module_version": "1.2.0",
          "state": {
            "_model_module": "@jupyter-widgets/base",
            "_model_module_version": "1.2.0",
            "_model_name": "LayoutModel",
            "_view_count": null,
            "_view_module": "@jupyter-widgets/base",
            "_view_module_version": "1.2.0",
            "_view_name": "LayoutView",
            "align_content": null,
            "align_items": null,
            "align_self": null,
            "border": null,
            "bottom": null,
            "display": null,
            "flex": null,
            "flex_flow": null,
            "grid_area": null,
            "grid_auto_columns": null,
            "grid_auto_flow": null,
            "grid_auto_rows": null,
            "grid_column": null,
            "grid_gap": null,
            "grid_row": null,
            "grid_template_areas": null,
            "grid_template_columns": null,
            "grid_template_rows": null,
            "height": null,
            "justify_content": null,
            "justify_items": null,
            "left": null,
            "margin": null,
            "max_height": null,
            "max_width": null,
            "min_height": null,
            "min_width": null,
            "object_fit": null,
            "object_position": null,
            "order": null,
            "overflow": null,
            "overflow_x": null,
            "overflow_y": null,
            "padding": null,
            "right": null,
            "top": null,
            "visibility": null,
            "width": null
          }
        },
        "eb0671448f35474fab72216aa82aafa5": {
          "model_module": "@jupyter-widgets/controls",
          "model_name": "DescriptionStyleModel",
          "model_module_version": "1.5.0",
          "state": {
            "_model_module": "@jupyter-widgets/controls",
            "_model_module_version": "1.5.0",
            "_model_name": "DescriptionStyleModel",
            "_view_count": null,
            "_view_module": "@jupyter-widgets/base",
            "_view_module_version": "1.2.0",
            "_view_name": "StyleView",
            "description_width": ""
          }
        },
        "58d16e70e2174f01a34ae26fc100d5a9": {
          "model_module": "@jupyter-widgets/controls",
          "model_name": "HBoxModel",
          "model_module_version": "1.5.0",
          "state": {
            "_dom_classes": [],
            "_model_module": "@jupyter-widgets/controls",
            "_model_module_version": "1.5.0",
            "_model_name": "HBoxModel",
            "_view_count": null,
            "_view_module": "@jupyter-widgets/controls",
            "_view_module_version": "1.5.0",
            "_view_name": "HBoxView",
            "box_style": "",
            "children": [
              "IPY_MODEL_31d171574ee14f61ba8a2d4f94bee111",
              "IPY_MODEL_92f915cc3a1040b4a5879416450b640c",
              "IPY_MODEL_59f28f2735ab4641a566ae59fc9e829a"
            ],
            "layout": "IPY_MODEL_54117c883986410fba5ebf6683a10647"
          }
        },
        "31d171574ee14f61ba8a2d4f94bee111": {
          "model_module": "@jupyter-widgets/controls",
          "model_name": "HTMLModel",
          "model_module_version": "1.5.0",
          "state": {
            "_dom_classes": [],
            "_model_module": "@jupyter-widgets/controls",
            "_model_module_version": "1.5.0",
            "_model_name": "HTMLModel",
            "_view_count": null,
            "_view_module": "@jupyter-widgets/controls",
            "_view_module_version": "1.5.0",
            "_view_name": "HTMLView",
            "description": "",
            "description_tooltip": null,
            "layout": "IPY_MODEL_ade137abd4a64d4392a08b412c36b02e",
            "placeholder": "​",
            "style": "IPY_MODEL_e1b3ddd1beab47b9a932fe7b0ab91623",
            "value": "100%"
          }
        },
        "92f915cc3a1040b4a5879416450b640c": {
          "model_module": "@jupyter-widgets/controls",
          "model_name": "FloatProgressModel",
          "model_module_version": "1.5.0",
          "state": {
            "_dom_classes": [],
            "_model_module": "@jupyter-widgets/controls",
            "_model_module_version": "1.5.0",
            "_model_name": "FloatProgressModel",
            "_view_count": null,
            "_view_module": "@jupyter-widgets/controls",
            "_view_module_version": "1.5.0",
            "_view_name": "ProgressView",
            "bar_style": "success",
            "description": "",
            "description_tooltip": null,
            "layout": "IPY_MODEL_b1a684af2ea54dcd88ce477a182feeab",
            "max": 1648877,
            "min": 0,
            "orientation": "horizontal",
            "style": "IPY_MODEL_2752cf50b10c4cc4939cec932816a91d",
            "value": 1648877
          }
        },
        "59f28f2735ab4641a566ae59fc9e829a": {
          "model_module": "@jupyter-widgets/controls",
          "model_name": "HTMLModel",
          "model_module_version": "1.5.0",
          "state": {
            "_dom_classes": [],
            "_model_module": "@jupyter-widgets/controls",
            "_model_module_version": "1.5.0",
            "_model_name": "HTMLModel",
            "_view_count": null,
            "_view_module": "@jupyter-widgets/controls",
            "_view_module_version": "1.5.0",
            "_view_name": "HTMLView",
            "description": "",
            "description_tooltip": null,
            "layout": "IPY_MODEL_e0a77cb84432451d8f9509b183ee36da",
            "placeholder": "​",
            "style": "IPY_MODEL_5e88a25af58f4d3c9814bd4aac2af253",
            "value": " 1648877/1648877 [00:00&lt;00:00, 4780407.74it/s]"
          }
        },
        "54117c883986410fba5ebf6683a10647": {
          "model_module": "@jupyter-widgets/base",
          "model_name": "LayoutModel",
          "model_module_version": "1.2.0",
          "state": {
            "_model_module": "@jupyter-widgets/base",
            "_model_module_version": "1.2.0",
            "_model_name": "LayoutModel",
            "_view_count": null,
            "_view_module": "@jupyter-widgets/base",
            "_view_module_version": "1.2.0",
            "_view_name": "LayoutView",
            "align_content": null,
            "align_items": null,
            "align_self": null,
            "border": null,
            "bottom": null,
            "display": null,
            "flex": null,
            "flex_flow": null,
            "grid_area": null,
            "grid_auto_columns": null,
            "grid_auto_flow": null,
            "grid_auto_rows": null,
            "grid_column": null,
            "grid_gap": null,
            "grid_row": null,
            "grid_template_areas": null,
            "grid_template_columns": null,
            "grid_template_rows": null,
            "height": null,
            "justify_content": null,
            "justify_items": null,
            "left": null,
            "margin": null,
            "max_height": null,
            "max_width": null,
            "min_height": null,
            "min_width": null,
            "object_fit": null,
            "object_position": null,
            "order": null,
            "overflow": null,
            "overflow_x": null,
            "overflow_y": null,
            "padding": null,
            "right": null,
            "top": null,
            "visibility": null,
            "width": null
          }
        },
        "ade137abd4a64d4392a08b412c36b02e": {
          "model_module": "@jupyter-widgets/base",
          "model_name": "LayoutModel",
          "model_module_version": "1.2.0",
          "state": {
            "_model_module": "@jupyter-widgets/base",
            "_model_module_version": "1.2.0",
            "_model_name": "LayoutModel",
            "_view_count": null,
            "_view_module": "@jupyter-widgets/base",
            "_view_module_version": "1.2.0",
            "_view_name": "LayoutView",
            "align_content": null,
            "align_items": null,
            "align_self": null,
            "border": null,
            "bottom": null,
            "display": null,
            "flex": null,
            "flex_flow": null,
            "grid_area": null,
            "grid_auto_columns": null,
            "grid_auto_flow": null,
            "grid_auto_rows": null,
            "grid_column": null,
            "grid_gap": null,
            "grid_row": null,
            "grid_template_areas": null,
            "grid_template_columns": null,
            "grid_template_rows": null,
            "height": null,
            "justify_content": null,
            "justify_items": null,
            "left": null,
            "margin": null,
            "max_height": null,
            "max_width": null,
            "min_height": null,
            "min_width": null,
            "object_fit": null,
            "object_position": null,
            "order": null,
            "overflow": null,
            "overflow_x": null,
            "overflow_y": null,
            "padding": null,
            "right": null,
            "top": null,
            "visibility": null,
            "width": null
          }
        },
        "e1b3ddd1beab47b9a932fe7b0ab91623": {
          "model_module": "@jupyter-widgets/controls",
          "model_name": "DescriptionStyleModel",
          "model_module_version": "1.5.0",
          "state": {
            "_model_module": "@jupyter-widgets/controls",
            "_model_module_version": "1.5.0",
            "_model_name": "DescriptionStyleModel",
            "_view_count": null,
            "_view_module": "@jupyter-widgets/base",
            "_view_module_version": "1.2.0",
            "_view_name": "StyleView",
            "description_width": ""
          }
        },
        "b1a684af2ea54dcd88ce477a182feeab": {
          "model_module": "@jupyter-widgets/base",
          "model_name": "LayoutModel",
          "model_module_version": "1.2.0",
          "state": {
            "_model_module": "@jupyter-widgets/base",
            "_model_module_version": "1.2.0",
            "_model_name": "LayoutModel",
            "_view_count": null,
            "_view_module": "@jupyter-widgets/base",
            "_view_module_version": "1.2.0",
            "_view_name": "LayoutView",
            "align_content": null,
            "align_items": null,
            "align_self": null,
            "border": null,
            "bottom": null,
            "display": null,
            "flex": null,
            "flex_flow": null,
            "grid_area": null,
            "grid_auto_columns": null,
            "grid_auto_flow": null,
            "grid_auto_rows": null,
            "grid_column": null,
            "grid_gap": null,
            "grid_row": null,
            "grid_template_areas": null,
            "grid_template_columns": null,
            "grid_template_rows": null,
            "height": null,
            "justify_content": null,
            "justify_items": null,
            "left": null,
            "margin": null,
            "max_height": null,
            "max_width": null,
            "min_height": null,
            "min_width": null,
            "object_fit": null,
            "object_position": null,
            "order": null,
            "overflow": null,
            "overflow_x": null,
            "overflow_y": null,
            "padding": null,
            "right": null,
            "top": null,
            "visibility": null,
            "width": null
          }
        },
        "2752cf50b10c4cc4939cec932816a91d": {
          "model_module": "@jupyter-widgets/controls",
          "model_name": "ProgressStyleModel",
          "model_module_version": "1.5.0",
          "state": {
            "_model_module": "@jupyter-widgets/controls",
            "_model_module_version": "1.5.0",
            "_model_name": "ProgressStyleModel",
            "_view_count": null,
            "_view_module": "@jupyter-widgets/base",
            "_view_module_version": "1.2.0",
            "_view_name": "StyleView",
            "bar_color": null,
            "description_width": ""
          }
        },
        "e0a77cb84432451d8f9509b183ee36da": {
          "model_module": "@jupyter-widgets/base",
          "model_name": "LayoutModel",
          "model_module_version": "1.2.0",
          "state": {
            "_model_module": "@jupyter-widgets/base",
            "_model_module_version": "1.2.0",
            "_model_name": "LayoutModel",
            "_view_count": null,
            "_view_module": "@jupyter-widgets/base",
            "_view_module_version": "1.2.0",
            "_view_name": "LayoutView",
            "align_content": null,
            "align_items": null,
            "align_self": null,
            "border": null,
            "bottom": null,
            "display": null,
            "flex": null,
            "flex_flow": null,
            "grid_area": null,
            "grid_auto_columns": null,
            "grid_auto_flow": null,
            "grid_auto_rows": null,
            "grid_column": null,
            "grid_gap": null,
            "grid_row": null,
            "grid_template_areas": null,
            "grid_template_columns": null,
            "grid_template_rows": null,
            "height": null,
            "justify_content": null,
            "justify_items": null,
            "left": null,
            "margin": null,
            "max_height": null,
            "max_width": null,
            "min_height": null,
            "min_width": null,
            "object_fit": null,
            "object_position": null,
            "order": null,
            "overflow": null,
            "overflow_x": null,
            "overflow_y": null,
            "padding": null,
            "right": null,
            "top": null,
            "visibility": null,
            "width": null
          }
        },
        "5e88a25af58f4d3c9814bd4aac2af253": {
          "model_module": "@jupyter-widgets/controls",
          "model_name": "DescriptionStyleModel",
          "model_module_version": "1.5.0",
          "state": {
            "_model_module": "@jupyter-widgets/controls",
            "_model_module_version": "1.5.0",
            "_model_name": "DescriptionStyleModel",
            "_view_count": null,
            "_view_module": "@jupyter-widgets/base",
            "_view_module_version": "1.2.0",
            "_view_name": "StyleView",
            "description_width": ""
          }
        },
        "fff8438ce607434a9baff7737857116f": {
          "model_module": "@jupyter-widgets/controls",
          "model_name": "HBoxModel",
          "model_module_version": "1.5.0",
          "state": {
            "_dom_classes": [],
            "_model_module": "@jupyter-widgets/controls",
            "_model_module_version": "1.5.0",
            "_model_name": "HBoxModel",
            "_view_count": null,
            "_view_module": "@jupyter-widgets/controls",
            "_view_module_version": "1.5.0",
            "_view_name": "HBoxView",
            "box_style": "",
            "children": [
              "IPY_MODEL_ea556dee25d546b3a038cb3c4b204fd4",
              "IPY_MODEL_74de3c7ed3dc4871ac2b1c9c50cb65f8",
              "IPY_MODEL_acdb9a0018024b59bfce6377f6292791"
            ],
            "layout": "IPY_MODEL_f7d8cdeb43f646d4ac74fd106050afe1"
          }
        },
        "ea556dee25d546b3a038cb3c4b204fd4": {
          "model_module": "@jupyter-widgets/controls",
          "model_name": "HTMLModel",
          "model_module_version": "1.5.0",
          "state": {
            "_dom_classes": [],
            "_model_module": "@jupyter-widgets/controls",
            "_model_module_version": "1.5.0",
            "_model_name": "HTMLModel",
            "_view_count": null,
            "_view_module": "@jupyter-widgets/controls",
            "_view_module_version": "1.5.0",
            "_view_name": "HTMLView",
            "description": "",
            "description_tooltip": null,
            "layout": "IPY_MODEL_542475f95fe646409c02e775221f7111",
            "placeholder": "​",
            "style": "IPY_MODEL_7d6c36e941fb44c48f9016b2c65b61fd",
            "value": "100%"
          }
        },
        "74de3c7ed3dc4871ac2b1c9c50cb65f8": {
          "model_module": "@jupyter-widgets/controls",
          "model_name": "FloatProgressModel",
          "model_module_version": "1.5.0",
          "state": {
            "_dom_classes": [],
            "_model_module": "@jupyter-widgets/controls",
            "_model_module_version": "1.5.0",
            "_model_name": "FloatProgressModel",
            "_view_count": null,
            "_view_module": "@jupyter-widgets/controls",
            "_view_module_version": "1.5.0",
            "_view_name": "ProgressView",
            "bar_style": "success",
            "description": "",
            "description_tooltip": null,
            "layout": "IPY_MODEL_a417cb964ce246b09884915751cf862f",
            "max": 4542,
            "min": 0,
            "orientation": "horizontal",
            "style": "IPY_MODEL_210c5ff1c1b54445a708582c675985e1",
            "value": 4542
          }
        },
        "acdb9a0018024b59bfce6377f6292791": {
          "model_module": "@jupyter-widgets/controls",
          "model_name": "HTMLModel",
          "model_module_version": "1.5.0",
          "state": {
            "_dom_classes": [],
            "_model_module": "@jupyter-widgets/controls",
            "_model_module_version": "1.5.0",
            "_model_name": "HTMLModel",
            "_view_count": null,
            "_view_module": "@jupyter-widgets/controls",
            "_view_module_version": "1.5.0",
            "_view_name": "HTMLView",
            "description": "",
            "description_tooltip": null,
            "layout": "IPY_MODEL_a0479a0434804279a747db5d9a6df58e",
            "placeholder": "​",
            "style": "IPY_MODEL_be50c6594ccd4625840c9a1ef6b088b6",
            "value": " 4542/4542 [00:00&lt;00:00, 86586.62it/s]"
          }
        },
        "f7d8cdeb43f646d4ac74fd106050afe1": {
          "model_module": "@jupyter-widgets/base",
          "model_name": "LayoutModel",
          "model_module_version": "1.2.0",
          "state": {
            "_model_module": "@jupyter-widgets/base",
            "_model_module_version": "1.2.0",
            "_model_name": "LayoutModel",
            "_view_count": null,
            "_view_module": "@jupyter-widgets/base",
            "_view_module_version": "1.2.0",
            "_view_name": "LayoutView",
            "align_content": null,
            "align_items": null,
            "align_self": null,
            "border": null,
            "bottom": null,
            "display": null,
            "flex": null,
            "flex_flow": null,
            "grid_area": null,
            "grid_auto_columns": null,
            "grid_auto_flow": null,
            "grid_auto_rows": null,
            "grid_column": null,
            "grid_gap": null,
            "grid_row": null,
            "grid_template_areas": null,
            "grid_template_columns": null,
            "grid_template_rows": null,
            "height": null,
            "justify_content": null,
            "justify_items": null,
            "left": null,
            "margin": null,
            "max_height": null,
            "max_width": null,
            "min_height": null,
            "min_width": null,
            "object_fit": null,
            "object_position": null,
            "order": null,
            "overflow": null,
            "overflow_x": null,
            "overflow_y": null,
            "padding": null,
            "right": null,
            "top": null,
            "visibility": null,
            "width": null
          }
        },
        "542475f95fe646409c02e775221f7111": {
          "model_module": "@jupyter-widgets/base",
          "model_name": "LayoutModel",
          "model_module_version": "1.2.0",
          "state": {
            "_model_module": "@jupyter-widgets/base",
            "_model_module_version": "1.2.0",
            "_model_name": "LayoutModel",
            "_view_count": null,
            "_view_module": "@jupyter-widgets/base",
            "_view_module_version": "1.2.0",
            "_view_name": "LayoutView",
            "align_content": null,
            "align_items": null,
            "align_self": null,
            "border": null,
            "bottom": null,
            "display": null,
            "flex": null,
            "flex_flow": null,
            "grid_area": null,
            "grid_auto_columns": null,
            "grid_auto_flow": null,
            "grid_auto_rows": null,
            "grid_column": null,
            "grid_gap": null,
            "grid_row": null,
            "grid_template_areas": null,
            "grid_template_columns": null,
            "grid_template_rows": null,
            "height": null,
            "justify_content": null,
            "justify_items": null,
            "left": null,
            "margin": null,
            "max_height": null,
            "max_width": null,
            "min_height": null,
            "min_width": null,
            "object_fit": null,
            "object_position": null,
            "order": null,
            "overflow": null,
            "overflow_x": null,
            "overflow_y": null,
            "padding": null,
            "right": null,
            "top": null,
            "visibility": null,
            "width": null
          }
        },
        "7d6c36e941fb44c48f9016b2c65b61fd": {
          "model_module": "@jupyter-widgets/controls",
          "model_name": "DescriptionStyleModel",
          "model_module_version": "1.5.0",
          "state": {
            "_model_module": "@jupyter-widgets/controls",
            "_model_module_version": "1.5.0",
            "_model_name": "DescriptionStyleModel",
            "_view_count": null,
            "_view_module": "@jupyter-widgets/base",
            "_view_module_version": "1.2.0",
            "_view_name": "StyleView",
            "description_width": ""
          }
        },
        "a417cb964ce246b09884915751cf862f": {
          "model_module": "@jupyter-widgets/base",
          "model_name": "LayoutModel",
          "model_module_version": "1.2.0",
          "state": {
            "_model_module": "@jupyter-widgets/base",
            "_model_module_version": "1.2.0",
            "_model_name": "LayoutModel",
            "_view_count": null,
            "_view_module": "@jupyter-widgets/base",
            "_view_module_version": "1.2.0",
            "_view_name": "LayoutView",
            "align_content": null,
            "align_items": null,
            "align_self": null,
            "border": null,
            "bottom": null,
            "display": null,
            "flex": null,
            "flex_flow": null,
            "grid_area": null,
            "grid_auto_columns": null,
            "grid_auto_flow": null,
            "grid_auto_rows": null,
            "grid_column": null,
            "grid_gap": null,
            "grid_row": null,
            "grid_template_areas": null,
            "grid_template_columns": null,
            "grid_template_rows": null,
            "height": null,
            "justify_content": null,
            "justify_items": null,
            "left": null,
            "margin": null,
            "max_height": null,
            "max_width": null,
            "min_height": null,
            "min_width": null,
            "object_fit": null,
            "object_position": null,
            "order": null,
            "overflow": null,
            "overflow_x": null,
            "overflow_y": null,
            "padding": null,
            "right": null,
            "top": null,
            "visibility": null,
            "width": null
          }
        },
        "210c5ff1c1b54445a708582c675985e1": {
          "model_module": "@jupyter-widgets/controls",
          "model_name": "ProgressStyleModel",
          "model_module_version": "1.5.0",
          "state": {
            "_model_module": "@jupyter-widgets/controls",
            "_model_module_version": "1.5.0",
            "_model_name": "ProgressStyleModel",
            "_view_count": null,
            "_view_module": "@jupyter-widgets/base",
            "_view_module_version": "1.2.0",
            "_view_name": "StyleView",
            "bar_color": null,
            "description_width": ""
          }
        },
        "a0479a0434804279a747db5d9a6df58e": {
          "model_module": "@jupyter-widgets/base",
          "model_name": "LayoutModel",
          "model_module_version": "1.2.0",
          "state": {
            "_model_module": "@jupyter-widgets/base",
            "_model_module_version": "1.2.0",
            "_model_name": "LayoutModel",
            "_view_count": null,
            "_view_module": "@jupyter-widgets/base",
            "_view_module_version": "1.2.0",
            "_view_name": "LayoutView",
            "align_content": null,
            "align_items": null,
            "align_self": null,
            "border": null,
            "bottom": null,
            "display": null,
            "flex": null,
            "flex_flow": null,
            "grid_area": null,
            "grid_auto_columns": null,
            "grid_auto_flow": null,
            "grid_auto_rows": null,
            "grid_column": null,
            "grid_gap": null,
            "grid_row": null,
            "grid_template_areas": null,
            "grid_template_columns": null,
            "grid_template_rows": null,
            "height": null,
            "justify_content": null,
            "justify_items": null,
            "left": null,
            "margin": null,
            "max_height": null,
            "max_width": null,
            "min_height": null,
            "min_width": null,
            "object_fit": null,
            "object_position": null,
            "order": null,
            "overflow": null,
            "overflow_x": null,
            "overflow_y": null,
            "padding": null,
            "right": null,
            "top": null,
            "visibility": null,
            "width": null
          }
        },
        "be50c6594ccd4625840c9a1ef6b088b6": {
          "model_module": "@jupyter-widgets/controls",
          "model_name": "DescriptionStyleModel",
          "model_module_version": "1.5.0",
          "state": {
            "_model_module": "@jupyter-widgets/controls",
            "_model_module_version": "1.5.0",
            "_model_name": "DescriptionStyleModel",
            "_view_count": null,
            "_view_module": "@jupyter-widgets/base",
            "_view_module_version": "1.2.0",
            "_view_name": "StyleView",
            "description_width": ""
          }
        }
      }
    }
  },
  "cells": [
    {
      "cell_type": "markdown",
      "source": [
        "In this notebook we are trying to analyse the impact of large learning rates on generalization of model"
      ],
      "metadata": {
        "id": "9p1z1r90feX7"
      }
    },
    {
      "cell_type": "code",
      "source": [
        "import torch\n",
        "import torch.nn as nn\n",
        "import torch.optim as optim\n",
        "import torchvision.datasets as datasets\n",
        "import torchvision.transforms as transforms\n",
        "import numpy as np\n",
        "import matplotlib.pyplot as plt\n",
        "\n",
        "# Define device\n",
        "device = torch.device('cuda' if torch.cuda.is_available() else 'cpu')\n",
        "\n",
        "# Load MNIST data\n",
        "train_data = datasets.MNIST(root='./data', train=True, transform=transforms.ToTensor(), download=True)\n",
        "test_data = datasets.MNIST(root='./data', train=False, transform=transforms.ToTensor(), download=True)\n",
        "train_loader = torch.utils.data.DataLoader(train_data, batch_size=32, shuffle=True)\n",
        "test_loader = torch.utils.data.DataLoader(test_data, batch_size=128, shuffle=False)"
      ],
      "metadata": {
        "colab": {
          "base_uri": "https://localhost:8080/",
          "height": 430,
          "referenced_widgets": [
            "13db5544bfaa4769a5c5679e9768a6e2",
            "8e372243bb81456ea1e5a0cf2a283e35",
            "44abae11be89485e8af32e11e3bc26f7",
            "ecff604e492640e7b80c7dc8b55ea28d",
            "e2ddcd6a1efa478f876dee75f51e9cfb",
            "28c59184134343b89101a9895a3b1e8e",
            "8bfb9fe8980c402cbbf729b0b7104d79",
            "299a194ef0954a15bca65de39cdb383f",
            "02274b5793ef4d4db3a39f089c89cd22",
            "692c1c1ddbf644fb98b1f8b089c71099",
            "78c31ebb4551403e81007e2c4e86772e",
            "8e39256b42144dfb8e94164901295524",
            "ea2f13012d764657b4ae75a8c3593d7b",
            "bb6c45659ac548d795140af6cf4076b4",
            "a934aa234f6b451e94b2258c638ab063",
            "2f1903968d3c469382cf9ae69466c606",
            "9d54f85ab53447d482ec03484cbae2b4",
            "215492e7d8dd4a108c7d4f1a5ef89045",
            "f5ef9c13a7024a44ae8c8c64a8561dcf",
            "25003396bfda44d5b15836af1a5761d8",
            "966528146a70481195ee4e2f63b1f386",
            "eb0671448f35474fab72216aa82aafa5",
            "58d16e70e2174f01a34ae26fc100d5a9",
            "31d171574ee14f61ba8a2d4f94bee111",
            "92f915cc3a1040b4a5879416450b640c",
            "59f28f2735ab4641a566ae59fc9e829a",
            "54117c883986410fba5ebf6683a10647",
            "ade137abd4a64d4392a08b412c36b02e",
            "e1b3ddd1beab47b9a932fe7b0ab91623",
            "b1a684af2ea54dcd88ce477a182feeab",
            "2752cf50b10c4cc4939cec932816a91d",
            "e0a77cb84432451d8f9509b183ee36da",
            "5e88a25af58f4d3c9814bd4aac2af253",
            "fff8438ce607434a9baff7737857116f",
            "ea556dee25d546b3a038cb3c4b204fd4",
            "74de3c7ed3dc4871ac2b1c9c50cb65f8",
            "acdb9a0018024b59bfce6377f6292791",
            "f7d8cdeb43f646d4ac74fd106050afe1",
            "542475f95fe646409c02e775221f7111",
            "7d6c36e941fb44c48f9016b2c65b61fd",
            "a417cb964ce246b09884915751cf862f",
            "210c5ff1c1b54445a708582c675985e1",
            "a0479a0434804279a747db5d9a6df58e",
            "be50c6594ccd4625840c9a1ef6b088b6"
          ]
        },
        "id": "4FptbgUfotTr",
        "outputId": "2df4f646-e647-463d-d94b-4bb0436eb9fb"
      },
      "execution_count": 1,
      "outputs": [
        {
          "output_type": "stream",
          "name": "stdout",
          "text": [
            "Downloading http://yann.lecun.com/exdb/mnist/train-images-idx3-ubyte.gz\n",
            "Downloading http://yann.lecun.com/exdb/mnist/train-images-idx3-ubyte.gz to ./data/MNIST/raw/train-images-idx3-ubyte.gz\n"
          ]
        },
        {
          "output_type": "display_data",
          "data": {
            "text/plain": [
              "  0%|          | 0/9912422 [00:00<?, ?it/s]"
            ],
            "application/vnd.jupyter.widget-view+json": {
              "version_major": 2,
              "version_minor": 0,
              "model_id": "13db5544bfaa4769a5c5679e9768a6e2"
            }
          },
          "metadata": {}
        },
        {
          "output_type": "stream",
          "name": "stdout",
          "text": [
            "Extracting ./data/MNIST/raw/train-images-idx3-ubyte.gz to ./data/MNIST/raw\n",
            "\n",
            "Downloading http://yann.lecun.com/exdb/mnist/train-labels-idx1-ubyte.gz\n",
            "Downloading http://yann.lecun.com/exdb/mnist/train-labels-idx1-ubyte.gz to ./data/MNIST/raw/train-labels-idx1-ubyte.gz\n"
          ]
        },
        {
          "output_type": "display_data",
          "data": {
            "text/plain": [
              "  0%|          | 0/28881 [00:00<?, ?it/s]"
            ],
            "application/vnd.jupyter.widget-view+json": {
              "version_major": 2,
              "version_minor": 0,
              "model_id": "8e39256b42144dfb8e94164901295524"
            }
          },
          "metadata": {}
        },
        {
          "output_type": "stream",
          "name": "stdout",
          "text": [
            "Extracting ./data/MNIST/raw/train-labels-idx1-ubyte.gz to ./data/MNIST/raw\n",
            "\n",
            "Downloading http://yann.lecun.com/exdb/mnist/t10k-images-idx3-ubyte.gz\n",
            "Downloading http://yann.lecun.com/exdb/mnist/t10k-images-idx3-ubyte.gz to ./data/MNIST/raw/t10k-images-idx3-ubyte.gz\n"
          ]
        },
        {
          "output_type": "display_data",
          "data": {
            "text/plain": [
              "  0%|          | 0/1648877 [00:00<?, ?it/s]"
            ],
            "application/vnd.jupyter.widget-view+json": {
              "version_major": 2,
              "version_minor": 0,
              "model_id": "58d16e70e2174f01a34ae26fc100d5a9"
            }
          },
          "metadata": {}
        },
        {
          "output_type": "stream",
          "name": "stdout",
          "text": [
            "Extracting ./data/MNIST/raw/t10k-images-idx3-ubyte.gz to ./data/MNIST/raw\n",
            "\n",
            "Downloading http://yann.lecun.com/exdb/mnist/t10k-labels-idx1-ubyte.gz\n",
            "Downloading http://yann.lecun.com/exdb/mnist/t10k-labels-idx1-ubyte.gz to ./data/MNIST/raw/t10k-labels-idx1-ubyte.gz\n"
          ]
        },
        {
          "output_type": "display_data",
          "data": {
            "text/plain": [
              "  0%|          | 0/4542 [00:00<?, ?it/s]"
            ],
            "application/vnd.jupyter.widget-view+json": {
              "version_major": 2,
              "version_minor": 0,
              "model_id": "fff8438ce607434a9baff7737857116f"
            }
          },
          "metadata": {}
        },
        {
          "output_type": "stream",
          "name": "stdout",
          "text": [
            "Extracting ./data/MNIST/raw/t10k-labels-idx1-ubyte.gz to ./data/MNIST/raw\n",
            "\n"
          ]
        }
      ]
    },
    {
      "cell_type": "markdown",
      "source": [
        "#### As per the figure 1-Right in the paper, this is an attempt to derive performace with increasing weight decays with a large learning rate (λ = 1.5)\n"
      ],
      "metadata": {
        "id": "MPwiBLrk3K7U"
      }
    },
    {
      "cell_type": "markdown",
      "source": [
        "Below is a simple LogisticRegression architecture to map an input image(28*28) to 10 classes for MNIST data set. "
      ],
      "metadata": {
        "id": "evNA9sE933Op"
      }
    },
    {
      "cell_type": "code",
      "source": [
        "# Define model architecture and hyperparameters\n",
        "class LogisticRegression(nn.Module):\n",
        "    def __init__(self, hidden_width):\n",
        "        super(LogisticRegression, self).__init__()\n",
        "        self.fc1 = nn.Linear(784, 10)\n",
        "\n",
        "    def forward(self, x):\n",
        "        x = x.view(-1, 784)\n",
        "        x = self.fc1(x)\n",
        "        return x"
      ],
      "metadata": {
        "id": "1pmjDpopI2Vg"
      },
      "execution_count": 2,
      "outputs": []
    },
    {
      "cell_type": "markdown",
      "source": [
        "Fixing value of learning rate as mentioned in paper to 1.5. \n",
        "\n",
        "Rest of the hyperparameters used are an assumption"
      ],
      "metadata": {
        "id": "g2ZkYAQR4Hl9"
      }
    },
    {
      "cell_type": "code",
      "source": [
        "lr = 1.5\n",
        "weight_decays = [0,0.000001,0.00001,0.0001,0.001,0.01,0.1]\n",
        "momentum = 0.9"
      ],
      "metadata": {
        "id": "L9ndODaqI4Mf"
      },
      "execution_count": 3,
      "outputs": []
    },
    {
      "cell_type": "markdown",
      "source": [
        "###Because there is not a provision in pytorch to handle negative weight decay, calculating negative and positive weight decay separately "
      ],
      "metadata": {
        "id": "JaIhPGCW5Fqr"
      }
    },
    {
      "cell_type": "markdown",
      "source": [
        "##For positive weight decay values "
      ],
      "metadata": {
        "id": "QBqh38fH5U_4"
      }
    },
    {
      "cell_type": "code",
      "source": [
        "test_accuracy_values_varying_weight_decay = []\n",
        "train_accuracy_values_varying_weight_decay = []\n",
        "\n",
        "for weight_decay in weight_decays:\n",
        "    model = LogisticRegression(100).to(device)\n",
        "    optimizer = optim.SGD(model.parameters(), lr=lr, momentum=momentum, weight_decay=weight_decay)\n",
        "    loss_fn = nn.CrossEntropyLoss()\n",
        "\n",
        "    test_accuracy_values = []\n",
        "    train_accuracy_values = []\n",
        "    for epoch in range(10):\n",
        "        model.train()\n",
        "        loss_values = []\n",
        "        correct = 0\n",
        "        total = 0\n",
        "        for batch_idx, (data, target) in enumerate(train_loader):\n",
        "            data, target = data.to(device), target.to(device)\n",
        "            optimizer.zero_grad()\n",
        "            output = model(data)\n",
        "            loss = loss_fn(output, target)\n",
        "\n",
        "            loss.backward()\n",
        "            optimizer.step()\n",
        "            loss_values.append(loss.item())\n",
        "\n",
        "            _, predicted = torch.max(output.data, 1)\n",
        "            total += target.size(0)\n",
        "            correct += (predicted == target).sum().item()\n",
        "        train_accuracy = 100 * correct / total\n",
        "        train_accuracy_values.append(train_accuracy)\n",
        "\n",
        "        model.eval()\n",
        "        correct = 0\n",
        "        total = 0\n",
        "        with torch.no_grad():\n",
        "            for data, target in test_loader:\n",
        "                data, target = data.to(device), target.to(device)\n",
        "                output = model(data)\n",
        "                _, predicted = torch.max(output.data, 1)\n",
        "                total += target.size(0)\n",
        "                correct += (predicted == target).sum().item()\n",
        "        test_accuracy = 100 * correct / total\n",
        "        test_accuracy_values.append(test_accuracy)\n",
        "    test_accuracy_values_varying_weight_decay.append(test_accuracy_values)\n",
        "    train_accuracy_values_varying_weight_decay.append(train_accuracy_values)\n",
        "\n",
        "print(\"Test Accuracy Values: \", test_accuracy_values_varying_weight_decay)\n",
        "print(\"Train Accuracy Values: \", train_accuracy_values_varying_weight_decay)"
      ],
      "metadata": {
        "colab": {
          "base_uri": "https://localhost:8080/"
        },
        "id": "oPjouTNzI6dC",
        "outputId": "f5decebb-f593-4639-f306-314a160ad0f2"
      },
      "execution_count": 4,
      "outputs": [
        {
          "output_type": "stream",
          "name": "stdout",
          "text": [
            "Test Accuracy Values:  [[86.15, 87.31, 89.18, 87.9, 89.43, 89.41, 90.14, 89.98, 86.86, 87.63], [87.18, 83.77, 88.56, 89.5, 87.54, 88.86, 87.99, 87.81, 88.47, 90.07], [88.49, 88.46, 82.74, 87.52, 87.17, 88.0, 88.02, 87.02, 83.87, 84.82], [83.36, 84.94, 85.26, 82.04, 82.77, 84.88, 85.62, 82.1, 83.8, 82.86], [77.45, 80.52, 70.31, 73.45, 70.52, 78.63, 83.0, 73.97, 75.84, 72.61], [63.89, 48.78, 41.56, 59.35, 52.51, 52.96, 49.42, 59.28, 62.57, 53.39], [31.26, 25.63, 27.1, 28.79, 9.74, 20.38, 10.44, 22.59, 28.25, 30.51]]\n",
            "Train Accuracy Values:  [[85.13333333333334, 87.275, 87.78333333333333, 87.82166666666667, 88.16166666666666, 88.44333333333333, 88.425, 88.50833333333334, 88.395, 88.52166666666666], [84.77333333333333, 87.39, 87.645, 87.87666666666667, 88.11, 88.005, 88.15, 88.33666666666667, 88.41166666666666, 88.50666666666666], [84.73, 86.65, 86.74333333333334, 86.99833333333333, 86.93333333333334, 87.10833333333333, 87.13166666666666, 87.15166666666667, 87.17, 86.99666666666667], [82.465, 83.33, 83.37166666666667, 83.41833333333334, 83.20333333333333, 83.34, 83.20166666666667, 83.24833333333333, 83.31166666666667, 83.525], [74.07333333333334, 74.255, 74.28333333333333, 74.445, 74.48333333333333, 74.13666666666667, 74.31, 74.135, 74.25833333333334, 74.185], [54.126666666666665, 53.695, 54.623333333333335, 54.138333333333335, 54.001666666666665, 54.49, 54.19166666666667, 54.348333333333336, 55.27, 54.715], [20.81, 20.606666666666666, 20.45, 20.59, 20.276666666666667, 20.29, 20.541666666666668, 20.205, 20.485, 20.243333333333332]]\n"
          ]
        }
      ]
    },
    {
      "cell_type": "markdown",
      "source": [
        "##For negative weight decay values"
      ],
      "metadata": {
        "id": "VTykzjZY5YNp"
      }
    },
    {
      "cell_type": "code",
      "source": [
        "test_accuracy_values_varying_negative_weight_decay = []\n",
        "train_accuracy_values_varying_negative_weight_decay = []\n",
        "\n",
        "for weight_decay in weight_decays:\n",
        "    model = LogisticRegression(100).to(device)\n",
        "    optimizer = optim.SGD(model.parameters(), lr=lr, momentum=momentum)\n",
        "    loss_fn = nn.CrossEntropyLoss()\n",
        "\n",
        "    test_accuracy_values = []\n",
        "    train_accuracy_values = []\n",
        "    for epoch in range(10):\n",
        "        model.train()\n",
        "        loss_values = []\n",
        "        correct = 0\n",
        "        total = 0\n",
        "        for batch_idx, (data, target) in enumerate(train_loader):\n",
        "            data, target = data.to(device), target.to(device)\n",
        "            optimizer.zero_grad()\n",
        "            output = model(data)\n",
        "            loss = loss_fn(output, target)\n",
        "\n",
        "            # Add weight decay penalty term to the loss\n",
        "            l2_reg = torch.tensor(0.).to(device)\n",
        "            for param in model.parameters():\n",
        "                l2_reg += torch.norm(param, p=2)**2\n",
        "\n",
        "            if weight_decay!=0:\n",
        "              loss += weight_decay * l2_reg * (-1)\n",
        "\n",
        "            loss.backward()\n",
        "            optimizer.step()\n",
        "            loss_values.append(loss.item())\n",
        "\n",
        "            # calculate train accuracy\n",
        "            _, predicted = torch.max(output.data, 1)\n",
        "            total += target.size(0)\n",
        "            correct += (predicted == target).sum().item()\n",
        "        train_accuracy = 100 * correct / total\n",
        "        train_accuracy_values.append(train_accuracy)\n",
        "\n",
        "        model.eval()\n",
        "        correct = 0\n",
        "        total = 0\n",
        "        with torch.no_grad():\n",
        "            for data, target in test_loader:\n",
        "                data, target = data.to(device), target.to(device)\n",
        "                output = model(data)\n",
        "                _, predicted = torch.max(output.data, 1)\n",
        "                total += target.size(0)\n",
        "                correct += (predicted == target).sum().item()\n",
        "        test_accuracy = 100 * correct / total\n",
        "        test_accuracy_values.append(test_accuracy)\n",
        "    test_accuracy_values_varying_negative_weight_decay.append(test_accuracy_values)\n",
        "    train_accuracy_values_varying_negative_weight_decay.append(train_accuracy_values)\n",
        "\n",
        "print(\"Test Accuracy Values: \", test_accuracy_values_varying_negative_weight_decay)\n",
        "print(\"Train Accuracy Values: \", train_accuracy_values_varying_negative_weight_decay)"
      ],
      "metadata": {
        "colab": {
          "base_uri": "https://localhost:8080/"
        },
        "id": "G6dnp-fTI7p6",
        "outputId": "3dd51468-b224-4f03-e9f9-0c9dd0f9a9bd"
      },
      "execution_count": 6,
      "outputs": [
        {
          "output_type": "stream",
          "name": "stdout",
          "text": [
            "Test Accuracy Values:  [[87.21, 89.17, 87.93, 89.38, 86.37, 89.23, 85.1, 88.91, 88.45, 89.85], [86.35, 89.21, 87.44, 87.84, 89.75, 88.8, 88.99, 88.72, 89.89, 89.52], [84.76, 89.1, 89.14, 90.87, 91.37, 90.93, 91.1, 91.18, 91.34, 91.05], [91.46, 91.55, 91.55, 91.55, 91.55, 91.55, 91.55, 9.8, 9.8, 9.8], [9.8, 9.8, 9.8, 9.8, 9.8, 9.8, 9.8, 9.8, 9.8, 9.8], [9.8, 9.8, 9.8, 9.8, 9.8, 9.8, 9.8, 9.8, 9.8, 9.8], [9.8, 9.8, 9.8, 9.8, 9.8, 9.8, 9.8, 9.8, 9.8, 9.8]]\n",
            "Train Accuracy Values:  [[85.02666666666667, 87.31666666666666, 87.74, 88.01333333333334, 88.17833333333333, 88.355, 88.34333333333333, 88.52833333333334, 88.55166666666666, 88.445], [85.115, 87.48833333333333, 88.00333333333333, 88.32833333333333, 88.60666666666667, 88.65833333333333, 88.88166666666666, 88.92833333333333, 89.1, 88.90833333333333], [85.70666666666666, 88.75166666666667, 90.13, 90.97333333333333, 91.38166666666666, 91.935, 92.18, 92.45, 92.55666666666667, 92.63], [88.96166666666667, 91.91833333333334, 91.95, 91.95, 91.95, 91.95, 91.95, 32.04666666666667, 9.871666666666666, 9.871666666666666], [78.68833333333333, 9.871666666666666, 9.871666666666666, 9.871666666666666, 9.871666666666666, 9.871666666666666, 9.871666666666666, 9.871666666666666, 9.871666666666666, 9.871666666666666], [21.043333333333333, 9.871666666666666, 9.871666666666666, 9.871666666666666, 9.871666666666666, 9.871666666666666, 9.871666666666666, 9.871666666666666, 9.871666666666666, 9.871666666666666], [12.528333333333334, 9.871666666666666, 9.871666666666666, 9.871666666666666, 9.871666666666666, 9.871666666666666, 9.871666666666666, 9.871666666666666, 9.871666666666666, 9.871666666666666]]\n"
          ]
        }
      ]
    },
    {
      "cell_type": "code",
      "source": [
        "test_accuracy_values_varying_negative_weight_decay = test_accuracy_values_varying_negative_weight_decay[::-1]\n",
        "test_accuracy_values_varying_negative_weight_decay.pop()\n",
        "\n",
        "max_test_accuracy_values_negative = [max(lst) for lst in test_accuracy_values_varying_negative_weight_decay]\n",
        "max_test_accuracy_values_positive = [max(lst) for lst in test_accuracy_values_varying_weight_decay]\n",
        "\n",
        "max_test_accuracy = max_test_accuracy_values_negative + max_test_accuracy_values_positive"
      ],
      "metadata": {
        "id": "1p_2T0DSjVxH"
      },
      "execution_count": 10,
      "outputs": []
    },
    {
      "cell_type": "code",
      "source": [
        "weight_decays = [-0.1,-0.01,-0.001,-0.0001,-0.00001,-0.000001,0,0.000001,0.00001,0.0001,0.001,0.01,0.1]"
      ],
      "metadata": {
        "id": "SGEPixClkbpV"
      },
      "execution_count": 11,
      "outputs": []
    },
    {
      "cell_type": "code",
      "source": [
        "print(max_test_accuracy)\n",
        "print(weight_decays)"
      ],
      "metadata": {
        "colab": {
          "base_uri": "https://localhost:8080/"
        },
        "id": "VLJU96RakSFb",
        "outputId": "31fb27cc-3cbd-46ae-8a76-73c233b0d470"
      },
      "execution_count": 12,
      "outputs": [
        {
          "output_type": "stream",
          "name": "stdout",
          "text": [
            "[9.8, 9.8, 9.8, 91.55, 91.37, 89.89, 90.14, 90.07, 88.49, 85.62, 83.0, 63.89, 31.26]\n",
            "[-0.1, -0.01, -0.001, -0.0001, -1e-05, -1e-06, 0, 1e-06, 1e-05, 0.0001, 0.001, 0.01, 0.1]\n"
          ]
        }
      ]
    },
    {
      "cell_type": "markdown",
      "source": [
        "##Plotting accuracy to weight decays"
      ],
      "metadata": {
        "id": "vBHH_d6c6bOZ"
      }
    },
    {
      "cell_type": "code",
      "source": [
        "import numpy as np\n",
        "import matplotlib.pyplot as plt\n",
        "\n",
        "Accuracy = max_test_accuracy\n",
        "Weight_decays = weight_decays\n",
        "\n",
        "x = np.linspace(0, len(Weight_decays)-1, len(Weight_decays))\n",
        "plt.scatter(x, Accuracy, marker='o')\n",
        "plt.xlabel('Weight Decays')\n",
        "plt.ylabel('Accuracy')\n",
        "plt.title('Accuracy vs Weight Decays')\n",
        "plt.xticks(x, Weight_decays)\n",
        "plt.show()"
      ],
      "metadata": {
        "colab": {
          "base_uri": "https://localhost:8080/",
          "height": 316
        },
        "id": "Z7-EOeDPmBDL",
        "outputId": "d718f358-4735-4dd9-8ab2-232a8bdf7112"
      },
      "execution_count": 17,
      "outputs": [
        {
          "output_type": "display_data",
          "data": {
            "text/plain": [
              "<Figure size 432x288 with 1 Axes>"
            ],
            "image/png": "[encoded data removed]"
          },
          "metadata": {
            "needs_background": "light"
          }
        }
      ]
    },
    {
      "cell_type": "markdown",
      "source": [
        "##Result"
      ],
      "metadata": {
        "id": "TJwE1V-R6qv6"
      }
    },
    {
      "cell_type": "markdown",
      "source": [
        "According to Figure-1-Right in the paper, it is possible to prove that a large learning rate can aid generalization by introducing an implicit regularization. As weight decay increases toward zero, the accuracy of the model increases, indicating that the model is generalizing well. However, if weight decay is increased beyond zero, the accuracy of the model drops, which implies that the model is over-regularized. This suggests that a large learning rate can help to prevent over-regularization by implicitly regularizing the model.\n",
        "\n",
        "Note: Accuracy level is not comparable to one in paper for extremely low negative weight decays, weight amplification (i.e. using negative weight decay) is leading to overfitting "
      ],
      "metadata": {
        "id": "NAmIKpFb60Wt"
      }
    }
  ]
}